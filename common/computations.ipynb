{
 "cells": [
  {
   "cell_type": "code",
   "execution_count": null,
   "metadata": {},
   "outputs": [],
   "source": [
    "import matplotlib.pyplot as plt\n",
    "plt.style.use('default')\n",
    "\n",
    "import sys\n",
    "sys.path.append('../SAT')\n",
    "sys.path.append('../SMT')\n",
    "\n",
    "from computations import compute_all_instances\n",
    "\n",
    "#reloads external modules when they are changed\n",
    "%load_ext autoreload\n",
    "%autoreload 2"
   ]
  },
  {
   "cell_type": "markdown",
   "metadata": {},
   "source": [
    "# SAT"
   ]
  },
  {
   "cell_type": "code",
   "execution_count": null,
   "metadata": {},
   "outputs": [],
   "source": [
    "n = 40\n",
    "plot_kw = {'plot_width': 900, 'dpi': 100}\n",
    "\n",
    "print(\"T T\")\n",
    "compute_all_instances(mode = \"SAT\", input_range = range(n), allow_rotation = True, sorting_by_area = True, plot_kw = plot_kw, plot = False)\n",
    "print(\"T F\")\n",
    "compute_all_instances(mode = \"SAT\", input_range = range(n), allow_rotation = True, sorting_by_area = False, plot_kw = plot_kw, plot = False)\n",
    "print(\"F T\")\n",
    "compute_all_instances(mode = \"SAT\", input_range = range(n), allow_rotation = False, sorting_by_area = True, plot_kw = plot_kw, plot = False)\n",
    "print(\"F F\")\n",
    "compute_all_instances(mode = \"SAT\", input_range = range(n), allow_rotation = False, sorting_by_area = False, plot_kw = plot_kw, plot = False)"
   ]
  },
  {
   "cell_type": "markdown",
   "metadata": {},
   "source": [
    "# SMT"
   ]
  },
  {
   "cell_type": "code",
   "execution_count": null,
   "metadata": {},
   "outputs": [],
   "source": [
    "n = 40\n",
    "plot_kw = {'plot_width': 900, 'dpi': 100}\n",
    "\n",
    "print(\"T T\")\n",
    "compute_all_instances(mode = \"SMT\", input_range = range(n), allow_rotation = True, sorting_by_area = True, plot_kw = plot_kw, plot = False)\n",
    "print(\"T F\")\n",
    "compute_all_instances(mode = \"SMT\", input_range = range(n), allow_rotation = True, sorting_by_area = False, plot_kw = plot_kw, plot = False)\n",
    "print(\"F T\")\n",
    "compute_all_instances(mode = \"SMT\", input_range = range(n), allow_rotation = False, sorting_by_area = True, plot_kw = plot_kw, plot = False)\n",
    "print(\"F F\")\n",
    "compute_all_instances(mode = \"SMT\", input_range = range(n), allow_rotation = False, sorting_by_area = False, plot_kw = plot_kw, plot = False)"
   ]
  }
 ],
 "metadata": {
  "kernelspec": {
   "display_name": "Python 3.9.7 ('cdmo')",
   "language": "python",
   "name": "python3"
  },
  "language_info": {
   "codemirror_mode": {
    "name": "ipython",
    "version": 3
   },
   "file_extension": ".py",
   "mimetype": "text/x-python",
   "name": "python",
   "nbconvert_exporter": "python",
   "pygments_lexer": "ipython3",
   "version": "3.9.7"
  },
  "orig_nbformat": 4,
  "vscode": {
   "interpreter": {
    "hash": "7cb55dec82edcc873b1a279dcd8cdc5fc3c9486a92678c391c79cda19f94fc94"
   }
  }
 },
 "nbformat": 4,
 "nbformat_minor": 2
}
