{
 "cells": [
  {
   "cell_type": "code",
   "execution_count": null,
   "metadata": {},
   "outputs": [],
   "source": [
    "%cd -0\n",
    "%cd ..\n",
    "import matplotlib.pyplot as plt\n",
    "plt.style.use('default')\n",
    "\n",
    "from common.computations import compute_all_instances\n",
    "\n",
    "n = 40\n",
    "plot_kw = {'plot_width': 900, 'dpi': 100}\n",
    "show_plot = False\n",
    "\n",
    "#reloads external modules when they are changed\n",
    "%load_ext autoreload\n",
    "%autoreload 2\n"
   ]
  },
  {
   "cell_type": "markdown",
   "metadata": {},
   "source": [
    "# SAT"
   ]
  },
  {
   "cell_type": "markdown",
   "metadata": {},
   "source": [
    "- Rotation ALLOWED\n",
    "- Symmetry breaking\n",
    "- Sorting by area ALLOWED"
   ]
  },
  {
   "cell_type": "code",
   "execution_count": null,
   "metadata": {},
   "outputs": [],
   "source": [
    "compute_all_instances(mode = \"SAT\", input_range = range(n), allow_rotation = True, sort_rectangles_by_area = True, plot_kw = plot_kw, show_plot = show_plot)"
   ]
  },
  {
   "cell_type": "markdown",
   "metadata": {},
   "source": [
    "- Rotation ALLOWED\n",
    "- Symmetry breaking\n",
    "- Sorting by area NOT ALLOWED"
   ]
  },
  {
   "cell_type": "code",
   "execution_count": null,
   "metadata": {},
   "outputs": [],
   "source": [
    "compute_all_instances(mode = \"SAT\", input_range = range(n), allow_rotation = True, sort_rectangles_by_area = False, plot_kw = plot_kw, show_plot = False)"
   ]
  },
  {
   "cell_type": "markdown",
   "metadata": {},
   "source": [
    "- Rotation ALLOWED\n",
    "- NO Symmetry breaking\n",
    "- Sorting by area NOT ALLOWED\n",
    "\n",
    "(Baseline with rotation)"
   ]
  },
  {
   "cell_type": "code",
   "execution_count": null,
   "metadata": {},
   "outputs": [],
   "source": [
    "compute_all_instances(mode = \"SAT\", input_range = range(n), allow_rotation = True, break_symmetries = False, sort_rectangles_by_area = False, plot_kw = plot_kw, show_plot = True)"
   ]
  },
  {
   "cell_type": "markdown",
   "metadata": {},
   "source": [
    "- Rotation NOT ALLOWED\n",
    "- Symmetry breaking\n",
    "- Sorting by area ALLOWED"
   ]
  },
  {
   "cell_type": "code",
   "execution_count": null,
   "metadata": {},
   "outputs": [],
   "source": [
    "compute_all_instances(mode = \"SAT\", input_range = range(n), allow_rotation = False, sort_rectangles_by_area = True, plot_kw = plot_kw, show_plot = show_plot)"
   ]
  },
  {
   "cell_type": "markdown",
   "metadata": {},
   "source": [
    "- Rotation NOT ALLOWED\n",
    "- Symmetry breaking\n",
    "- Sorting by area NOT ALLOWED"
   ]
  },
  {
   "cell_type": "code",
   "execution_count": null,
   "metadata": {},
   "outputs": [],
   "source": [
    "compute_all_instances(mode = \"SAT\", input_range = range(n), allow_rotation = False, sort_rectangles_by_area = False, plot_kw = plot_kw, show_plot = show_plot)"
   ]
  },
  {
   "cell_type": "markdown",
   "metadata": {},
   "source": [
    "- Rotation NOT ALLOWED\n",
    "- NO Symmetry breaking\n",
    "- Sorting by area NOT ALLOWED\n",
    "\n",
    "(Baseline without rotation)"
   ]
  },
  {
   "cell_type": "code",
   "execution_count": null,
   "metadata": {},
   "outputs": [],
   "source": [
    "compute_all_instances(mode = \"SAT\", input_range = range(n), allow_rotation = False, break_symmetries = False, sort_rectangles_by_area = False, plot_kw = plot_kw, show_plot = True)"
   ]
  },
  {
   "cell_type": "markdown",
   "metadata": {},
   "source": [
    "# SMT"
   ]
  },
  {
   "cell_type": "markdown",
   "metadata": {},
   "source": [
    "- Rotation ALLOWED\n",
    "- Symmetry breaking\n",
    "- Sorting by area ALLOWED"
   ]
  },
  {
   "cell_type": "code",
   "execution_count": null,
   "metadata": {},
   "outputs": [],
   "source": [
    "compute_all_instances(mode = \"SMT\", input_range = range(n), allow_rotation = True, sort_rectangles_by_area = True, plot_kw = plot_kw, show_plot = show_plot)"
   ]
  },
  {
   "cell_type": "markdown",
   "metadata": {},
   "source": [
    "- Rotation ALLOWED\n",
    "- Symmetry breaking\n",
    "- Sorting by area NOT ALLOWED"
   ]
  },
  {
   "cell_type": "code",
   "execution_count": null,
   "metadata": {},
   "outputs": [],
   "source": [
    "compute_all_instances(mode = \"SMT\", input_range = range(n), allow_rotation = True, sort_rectangles_by_area = False, plot_kw = plot_kw, show_plot = show_plot)"
   ]
  },
  {
   "cell_type": "markdown",
   "metadata": {},
   "source": [
    "- Rotation ALLOWED\n",
    "- NO Symmetry breaking\n",
    "- Sorting by area NOT ALLOWED\n",
    "\n",
    "(Baseline with rotation)"
   ]
  },
  {
   "cell_type": "code",
   "execution_count": null,
   "metadata": {},
   "outputs": [],
   "source": [
    "compute_all_instances(mode = \"SMT\", input_range = range(n), allow_rotation = True, break_symmetries = False, sort_rectangles_by_area = False, plot_kw = plot_kw, show_plot = show_plot)"
   ]
  },
  {
   "cell_type": "markdown",
   "metadata": {},
   "source": [
    "- Rotation NOT ALLOWED\n",
    "- Symmetry breaking\n",
    "- Sorting by area ALLOWED"
   ]
  },
  {
   "cell_type": "code",
   "execution_count": null,
   "metadata": {},
   "outputs": [],
   "source": [
    "compute_all_instances(mode = \"SMT\", input_range = range(n), allow_rotation = False, sort_rectangles_by_area = True, plot_kw = plot_kw, show_plot = show_plot)"
   ]
  },
  {
   "cell_type": "markdown",
   "metadata": {},
   "source": [
    "- Rotation NOT ALLOWED\n",
    "- Symmetry breaking\n",
    "- Sorting by area NOT ALLOWED"
   ]
  },
  {
   "cell_type": "code",
   "execution_count": null,
   "metadata": {},
   "outputs": [],
   "source": [
    "compute_all_instances(mode = \"SMT\", input_range = range(n), allow_rotation = False, sort_rectangles_by_area = False, plot_kw = plot_kw, show_plot = show_plot)"
   ]
  },
  {
   "cell_type": "markdown",
   "metadata": {},
   "source": [
    "- Rotation NOT ALLOWED\n",
    "- NO Symmetry breaking\n",
    "- Sorting by area NOT ALLOWED\n",
    "\n",
    "(Baseline without rotation)"
   ]
  },
  {
   "cell_type": "code",
   "execution_count": null,
   "metadata": {},
   "outputs": [],
   "source": [
    "compute_all_instances(mode = \"SMT\", input_range = range(n), allow_rotation = False, break_symmetries = False, sort_rectangles_by_area = False, plot_kw = plot_kw, show_plot = show_plot)"
   ]
  }
 ],
 "metadata": {
  "kernelspec": {
   "display_name": "Python 3.9.7 ('cdmo')",
   "language": "python",
   "name": "python3"
  },
  "language_info": {
   "codemirror_mode": {
    "name": "ipython",
    "version": 3
   },
   "file_extension": ".py",
   "mimetype": "text/x-python",
   "name": "python",
   "nbconvert_exporter": "python",
   "pygments_lexer": "ipython3",
   "version": "3.9.7"
  },
  "orig_nbformat": 4,
  "vscode": {
   "interpreter": {
    "hash": "7cb55dec82edcc873b1a279dcd8cdc5fc3c9486a92678c391c79cda19f94fc94"
   }
  }
 },
 "nbformat": 4,
 "nbformat_minor": 2
}
