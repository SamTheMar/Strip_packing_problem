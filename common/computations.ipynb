{
 "cells": [
  {
   "cell_type": "code",
   "execution_count": null,
   "metadata": {},
   "outputs": [],
   "source": [
    "%cd -0\n",
    "%cd ..\n",
    "import matplotlib.pyplot as plt\n",
    "plt.style.use('default')\n",
    "\n",
    "from common.computations import compute_all_instances\n",
    "\n",
    "n = 40\n",
    "plot_kw = {'plot_width': 900, 'dpi': 100}\n",
    "show_plot = False\n",
    "\n",
    "#reloads external modules when they are changed\n",
    "%load_ext autoreload\n",
    "%autoreload 2\n"
   ]
  },
  {
   "cell_type": "markdown",
   "metadata": {},
   "source": [
    "# SAT"
   ]
  },
  {
   "cell_type": "markdown",
   "metadata": {},
   "source": [
    "- Rotation ALLOWED\n",
    "- Sorting by area ALLOWED"
   ]
  },
  {
   "cell_type": "code",
   "execution_count": null,
   "metadata": {},
   "outputs": [],
   "source": [
    "compute_all_instances(mode = \"SAT\", input_range = range(n), allow_rotation = True, sorting_by_area = True, plot_kw = plot_kw, plot = show_plot)"
   ]
  },
  {
   "cell_type": "markdown",
   "metadata": {},
   "source": [
    "- Rotation ALLOWED\n",
    "- Sorting by area NOT ALLOWED"
   ]
  },
  {
   "cell_type": "code",
   "execution_count": null,
   "metadata": {},
   "outputs": [],
   "source": [
    "compute_all_instances(mode = \"SAT\", input_range = range(n), allow_rotation = True, sorting_by_area = False, plot_kw = plot_kw, plot = show_plot)"
   ]
  },
  {
   "cell_type": "markdown",
   "metadata": {},
   "source": [
    "- Rotation NOT ALLOWED\n",
    "- Sorting by area ALLOWED"
   ]
  },
  {
   "cell_type": "code",
   "execution_count": null,
   "metadata": {},
   "outputs": [],
   "source": [
    "compute_all_instances(mode = \"SAT\", input_range = range(n), allow_rotation = False, sorting_by_area = True, plot_kw = plot_kw, plot = show_plot)"
   ]
  },
  {
   "cell_type": "markdown",
   "metadata": {},
   "source": [
    "- Rotation NOT ALLOWED\n",
    "- Sorting by area NOT ALLOWED"
   ]
  },
  {
   "cell_type": "code",
   "execution_count": null,
   "metadata": {},
   "outputs": [],
   "source": [
    "compute_all_instances(mode = \"SAT\", input_range = range(n), allow_rotation = False, sorting_by_area = False, plot_kw = plot_kw, plot = show_plot)"
   ]
  },
  {
   "cell_type": "markdown",
   "metadata": {},
   "source": [
    "# SMT"
   ]
  },
  {
   "cell_type": "markdown",
   "metadata": {},
   "source": [
    "- Rotation ALLOWED\n",
    "- Sorting by area ALLOWED"
   ]
  },
  {
   "cell_type": "code",
   "execution_count": null,
   "metadata": {},
   "outputs": [],
   "source": [
    "compute_all_instances(mode = \"SMT\", input_range = range(n), allow_rotation = True, sorting_by_area = True, plot_kw = plot_kw, plot = show_plot)"
   ]
  },
  {
   "cell_type": "markdown",
   "metadata": {},
   "source": [
    "- Rotation ALLOWED\n",
    "- Sorting by area NOT ALLOWED"
   ]
  },
  {
   "cell_type": "code",
   "execution_count": null,
   "metadata": {},
   "outputs": [],
   "source": [
    "compute_all_instances(mode = \"SMT\", input_range = range(n), allow_rotation = True, sorting_by_area = False, plot_kw = plot_kw, plot = show_plot)"
   ]
  },
  {
   "cell_type": "markdown",
   "metadata": {},
   "source": [
    "- Rotation NOT ALLOWED\n",
    "- Sorting by area ALLOWED"
   ]
  },
  {
   "cell_type": "code",
   "execution_count": null,
   "metadata": {},
   "outputs": [],
   "source": [
    "compute_all_instances(mode = \"SMT\", input_range = range(n), allow_rotation = False, sorting_by_area = True, plot_kw = plot_kw, plot = show_plot)"
   ]
  },
  {
   "cell_type": "markdown",
   "metadata": {},
   "source": [
    "- Rotation NOT ALLOWED\n",
    "- Sorting by area NOT ALLOWED"
   ]
  },
  {
   "cell_type": "code",
   "execution_count": null,
   "metadata": {},
   "outputs": [],
   "source": [
    "print(\"F F\")\n",
    "compute_all_instances(mode = \"SMT\", input_range = range(n), allow_rotation = False, sorting_by_area = False, plot_kw = plot_kw, plot = show_plot)"
   ]
  }
 ],
 "metadata": {
  "kernelspec": {
   "display_name": "Python 3.9.12 ('CDMO')",
   "language": "python",
   "name": "python3"
  },
  "language_info": {
   "codemirror_mode": {
    "name": "ipython",
    "version": 3
   },
   "file_extension": ".py",
   "mimetype": "text/x-python",
   "name": "python",
   "nbconvert_exporter": "python",
   "pygments_lexer": "ipython3",
   "version": "3.9.12"
  },
  "orig_nbformat": 4,
  "vscode": {
   "interpreter": {
    "hash": "88f8c138b3f0b97562de7bd82a0d3b62911e4434bd930c617581685e9f2117fe"
   }
  }
 },
 "nbformat": 4,
 "nbformat_minor": 2
}
