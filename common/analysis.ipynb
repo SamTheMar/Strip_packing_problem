{
 "cells": [
  {
   "cell_type": "code",
   "execution_count": null,
   "metadata": {},
   "outputs": [],
   "source": [
    "%cd -0\n",
    "%cd ..\n",
    "import numpy as np\n",
    "import matplotlib.pyplot as plt\n",
    "import pandas as pd\n",
    "\n",
    "plt.style.use('default')\n",
    "\n",
    "from common.utils import visualize_from_file, get_execution_times, visualize_execution_times\n",
    "\n",
    "#reloads external modules when they are changed\n",
    "%load_ext autoreload\n",
    "%autoreload 2"
   ]
  },
  {
   "cell_type": "markdown",
   "metadata": {},
   "source": [
    "# CP\n",
    "performance analysis of the strip packing problem using Constraint Programming"
   ]
  },
  {
   "cell_type": "code",
   "execution_count": null,
   "metadata": {},
   "outputs": [],
   "source": [
    "d1 = get_execution_times(\"CP/CP_solutions\")\n",
    "\n",
    "labels = [\"No Rotation\"]\n",
    "data = [d1]\n",
    "\n",
    "visualize_execution_times(data, labels, bar_width = 0.3, plot_height = 720, show_grid = True, title = \"SAT, no rotation\", show_stats_table=True)\n",
    "plt.show()"
   ]
  },
  {
   "cell_type": "markdown",
   "metadata": {},
   "source": [
    "# SAT\n",
    "performance analysis of the strip packing problem using SAT"
   ]
  },
  {
   "cell_type": "markdown",
   "metadata": {},
   "source": [
    "## No rotation"
   ]
  },
  {
   "cell_type": "code",
   "execution_count": null,
   "metadata": {},
   "outputs": [],
   "source": [
    "n_modes = 2\n",
    "np.linspace(-n_modes//2, n_modes//2, n_modes)/n_modes"
   ]
  },
  {
   "cell_type": "code",
   "execution_count": null,
   "metadata": {},
   "outputs": [],
   "source": [
    "d1 = get_execution_times(\"SAT/out/no_rotation/sorting_by_area/txt/\")\n",
    "d2 = get_execution_times(\"SAT/out/no_rotation/no_sorting_by_area/txt/\")\n",
    "\n",
    "labels = (\"Sorted by area\", \"Not sorted by area\", \"aaa\", \"bbb\", \"ccc\", \"d\", \"e\")\n",
    "data = (d1, d2)#, d1, d2, d1, d2)\n",
    "\n",
    "visualize_execution_times(data, labels, bar_width = 0.3, plot_height = 720, show_grid = True, title = \"SAT, no rotation\")\n",
    "plt.show()"
   ]
  },
  {
   "cell_type": "markdown",
   "metadata": {},
   "source": [
    "## Rotation"
   ]
  },
  {
   "cell_type": "code",
   "execution_count": null,
   "metadata": {},
   "outputs": [],
   "source": [
    "d1 = get_execution_times(\"SAT/out/rotation/sorting_by_area/txt/\")\n",
    "d2 = get_execution_times(\"SAT/out/rotation/no_sorting_by_area/txt/\")\n",
    "\n",
    "labels = (\"Sorted by area\", \"Not sorted by area\")\n",
    "data = (d1, d2)\n",
    "\n",
    "visualize_execution_times(data, labels, bar_width = 0.3, plot_height = 720, show_grid = True, title = \"SAT, with rotation\")\n",
    "plt.show()"
   ]
  },
  {
   "cell_type": "markdown",
   "metadata": {},
   "source": [
    "# SMT\n",
    "performance analysis of the strip packing problem using SMT"
   ]
  },
  {
   "cell_type": "markdown",
   "metadata": {},
   "source": [
    "## No Rotation"
   ]
  },
  {
   "cell_type": "code",
   "execution_count": null,
   "metadata": {},
   "outputs": [],
   "source": [
    "d1 = get_execution_times(\"SMT/out/no_rotation/sorting_by_area/txt/\")\n",
    "d2 = get_execution_times(\"SMT/out/no_rotation/no_sorting_by_area/txt/\")\n",
    "\n",
    "labels = (\"Sorted by area\", \"Not sorted by area\")\n",
    "data = (d1, d2)\n",
    "\n",
    "visualize_execution_times(data, labels, bar_width = 0.3, plot_height = 720, show_grid = True, title = \"SMT, no rotation\")\n",
    "plt.show()"
   ]
  },
  {
   "cell_type": "markdown",
   "metadata": {},
   "source": [
    "## Rotation"
   ]
  },
  {
   "cell_type": "code",
   "execution_count": null,
   "metadata": {},
   "outputs": [],
   "source": [
    "d1 = get_execution_times(\"SMT/out/rotation/sorting_by_area/txt/\")\n",
    "d2 = get_execution_times(\"SMT/out/rotation/no_sorting_by_area/txt/\")\n",
    "\n",
    "labels = (\"Sorted by area\", \"Not sorted by area\")\n",
    "data = (d1, d2)\n",
    "\n",
    "visualize_execution_times(data, labels, bar_width = 0.3, plot_height = 720, show_grid = True, title = \"SAT, with rotation\")\n",
    "plt.show()"
   ]
  },
  {
   "cell_type": "markdown",
   "metadata": {},
   "source": [
    "# LP\n",
    "performance analysis of the strip packing problem using Linear Programming"
   ]
  }
 ],
 "metadata": {
  "interpreter": {
   "hash": "7cb55dec82edcc873b1a279dcd8cdc5fc3c9486a92678c391c79cda19f94fc94"
  },
  "kernelspec": {
   "display_name": "Python 3.9.7 ('cdmo')",
   "language": "python",
   "name": "python3"
  },
  "language_info": {
   "codemirror_mode": {
    "name": "ipython",
    "version": 3
   },
   "file_extension": ".py",
   "mimetype": "text/x-python",
   "name": "python",
   "nbconvert_exporter": "python",
   "pygments_lexer": "ipython3",
   "version": "3.9.7"
  },
  "orig_nbformat": 4
 },
 "nbformat": 4,
 "nbformat_minor": 2
}
