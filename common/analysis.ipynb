{
 "cells": [
  {
   "cell_type": "code",
   "execution_count": null,
   "metadata": {},
   "outputs": [],
   "source": [
    "%cd -0\n",
    "%cd ..\n",
    "import matplotlib.pyplot as plt\n",
    "\n",
    "plt.style.use('default')\n",
    "\n",
    "from common.utils import get_execution_times, visualize_execution_times, visualize_execution_times_two_plots\n",
    "\n",
    "save_figures = True\n",
    "plot_formats = [\"png\", \"pdf\"]\n",
    "plot_folder = \"./plots\"\n",
    "\n",
    "#reloads external modules when they are changed\n",
    "%load_ext autoreload\n",
    "%autoreload 2"
   ]
  },
  {
   "cell_type": "markdown",
   "metadata": {},
   "source": [
    "# CP\n",
    "performance analysis of the strip packing problem using Constraint Programming"
   ]
  },
  {
   "cell_type": "code",
   "execution_count": null,
   "metadata": {},
   "outputs": [],
   "source": [
    "d1 = get_execution_times(\"CP/CP_solutions\")\n",
    "fig, ax = visualize_execution_times((d1, ), title = \"CP, no rotation\")\n",
    "if save_figures:\n",
    "    for f in plot_formats:\n",
    "        fig.savefig(plot_folder + '/CP_no_rotation.' + f)\n",
    "plt.show()"
   ]
  },
  {
   "cell_type": "markdown",
   "metadata": {},
   "source": [
    "# SAT\n",
    "performance analysis of the strip packing problem using SAT"
   ]
  },
  {
   "cell_type": "code",
   "execution_count": null,
   "metadata": {},
   "outputs": [],
   "source": [
    "t_SAT_nr_a = get_execution_times(\"SAT/out/no_rotation/sorting_by_area/txt/\")\n",
    "t_SAT_nr_na = get_execution_times(\"SAT/out/no_rotation/no_sorting_by_area/txt/\")\n",
    "t_SAT_r_a = get_execution_times(\"SAT/out/rotation/sorting_by_area/txt/\")\n",
    "t_SAT_r_na = get_execution_times(\"SAT/out/rotation/no_sorting_by_area/txt/\")\n",
    "\n",
    "labels = (\"No sorting by area\", \"Sorting by area\")\n",
    "\n",
    "SAT_colors = [\"#17becf\", \"#1f77b4\", \"#50ca50\", \"#008000\"]\n",
    "def get_SAT_colors(*id):\n",
    "    return [SAT_colors[i-1] for i in id]"
   ]
  },
  {
   "cell_type": "markdown",
   "metadata": {},
   "source": [
    "## No rotation"
   ]
  },
  {
   "cell_type": "code",
   "execution_count": null,
   "metadata": {},
   "outputs": [],
   "source": [
    "bar_colors = get_SAT_colors(1, 2)\n",
    "title = \"SAT without rotation\"\n",
    "\n",
    "fig, ax = visualize_execution_times((t_SAT_nr_na, t_SAT_nr_a), labels, title = title, bar_colors=bar_colors)\n",
    "\n",
    "# kw_upper = {'title': labels[0], 'bar_colors': [bar_colors[0]]}\n",
    "# kw_lower = {'title': labels[1], 'bar_colors': [bar_colors[1]]}\n",
    "# fig, axs = visualize_execution_times_two_plots((t_SAT_nr_na, ), (t_SAT_nr_a, ), kw_upper=kw_upper, kw_lower=kw_lower, dpi = 100, suptitle = title)\n",
    "\n",
    "if save_figures:\n",
    "    for f in plot_formats:\n",
    "        fig.savefig(plot_folder + '/SAT_no_rotation.' + f)\n",
    "plt.show()"
   ]
  },
  {
   "cell_type": "markdown",
   "metadata": {},
   "source": [
    "## Rotation"
   ]
  },
  {
   "cell_type": "code",
   "execution_count": null,
   "metadata": {},
   "outputs": [],
   "source": [
    "bar_colors = get_SAT_colors(3, 4)\n",
    "title = \"SAT with rotation\"\n",
    "\n",
    "fig, ax = visualize_execution_times((t_SAT_r_a, t_SAT_r_na), labels, title = title, bar_colors=bar_colors)\n",
    "\n",
    "# kw_upper = {'title': labels[0], 'bar_colors': [bar_colors[0]]}\n",
    "# kw_lower = {'title': labels[1], 'bar_colors': [bar_colors[1]]}\n",
    "# fig, axs = visualize_execution_times_two_plots((t_SAT_r_na, ), (t_SAT_r_a, ), kw_upper=kw_upper, kw_lower=kw_lower, dpi = 100, suptitle = title)\n",
    "\n",
    "if save_figures:\n",
    "    for f in plot_formats:\n",
    "        fig.savefig(plot_folder + '/SAT_rotation.' + f)\n",
    "plt.show()"
   ]
  },
  {
   "cell_type": "markdown",
   "metadata": {},
   "source": [
    "## Both"
   ]
  },
  {
   "cell_type": "code",
   "execution_count": null,
   "metadata": {},
   "outputs": [],
   "source": [
    "bar_colors = get_SAT_colors(1, 3)\n",
    "\n",
    "kw_upper = {'title': 'Without rotation', 'bar_colors': [bar_colors[0]]}\n",
    "kw_lower = {'title': 'With rotation', 'bar_colors': [bar_colors[1]]}\n",
    "fig1, axs = visualize_execution_times_two_plots((t_SAT_nr_na, ), (t_SAT_r_na, ), kw_upper=kw_upper, kw_lower=kw_lower, dpi = 100, suptitle = \"SAT, no sorting by area\")\n",
    "\n",
    "\n",
    "bar_colors = get_SAT_colors(2, 4)\n",
    "\n",
    "kw_upper = {'title': 'Without rotation', 'bar_colors': [bar_colors[0]]}\n",
    "kw_lower = {'title': 'With rotation', 'bar_colors': [bar_colors[1]]}\n",
    "fig2, axs = visualize_execution_times_two_plots((t_SAT_nr_a, ), (t_SAT_r_a, ), kw_upper=kw_upper, kw_lower=kw_lower, dpi = 100, suptitle = \"SAT, sorting by area\")\n",
    "\n",
    "if save_figures:\n",
    "    for f in plot_formats:\n",
    "        fig1.savefig(plot_folder + '/SAT_comparison_na.' + f)\n",
    "        fig2.savefig(plot_folder + '/SAT_comparison_a.' + f)\n",
    "plt.show()"
   ]
  },
  {
   "cell_type": "markdown",
   "metadata": {},
   "source": [
    "# SMT\n",
    "performance analysis of the strip packing problem using SMT"
   ]
  },
  {
   "cell_type": "code",
   "execution_count": null,
   "metadata": {},
   "outputs": [],
   "source": [
    "t_SMT_nr_a = get_execution_times(\"SMT/out/no_rotation/sorting_by_area/txt/\")\n",
    "t_SMT_nr_na = get_execution_times(\"SMT/out/no_rotation/no_sorting_by_area/txt/\")\n",
    "t_SMT_r_a = get_execution_times(\"SMT/out/rotation/sorting_by_area/txt/\")\n",
    "t_SMT_r_na = get_execution_times(\"SMT/out/rotation/no_sorting_by_area/txt/\")\n",
    "\n",
    "SMT_colors = [\"#ffb600\", \"#cc650b\", \"#ff5656\", \"#980000\"]\n",
    "def get_SMT_colors(*id):\n",
    "    return [SMT_colors[i-1] for i in id]"
   ]
  },
  {
   "cell_type": "markdown",
   "metadata": {},
   "source": [
    "## No Rotation"
   ]
  },
  {
   "cell_type": "code",
   "execution_count": null,
   "metadata": {},
   "outputs": [],
   "source": [
    "bar_colors = get_SMT_colors(1, 2)\n",
    "title = \"SMT without rotation\"\n",
    "\n",
    "fig, ax = visualize_execution_times((t_SMT_nr_a, t_SAT_nr_na), labels, title = title, bar_colors=bar_colors)\n",
    "\n",
    "# kw_upper = {'title': labels[0], 'bar_colors': [bar_colors[0]]}\n",
    "# kw_lower = {'title': labels[1], 'bar_colors': [bar_colors[1]]}\n",
    "# fig, axs = visualize_execution_times_two_plots((t_SMT_nr_na, ), (t_SMT_nr_a, ), kw_upper=kw_upper, kw_lower=kw_lower, dpi = 100, suptitle = title)\n",
    "\n",
    "if save_figures:\n",
    "    for f in plot_formats:\n",
    "        fig.savefig(plot_folder + '/SMT_no_rotation.' + f)\n",
    "plt.show()"
   ]
  },
  {
   "cell_type": "markdown",
   "metadata": {},
   "source": [
    "## Rotation"
   ]
  },
  {
   "cell_type": "code",
   "execution_count": null,
   "metadata": {},
   "outputs": [],
   "source": [
    "bar_colors = get_SMT_colors(3, 4)\n",
    "title = \"SMT with rotation\"\n",
    "\n",
    "fig, ax = visualize_execution_times((t_SMT_r_a, t_SAT_r_na), labels, title = title, bar_colors=bar_colors)\n",
    "\n",
    "# kw_upper = {'title': labels[0], 'bar_colors': [bar_colors[0]]}\n",
    "# kw_lower = {'title': labels[1], 'bar_colors': [bar_colors[1]]}\n",
    "# fig, axs = visualize_execution_times_two_plots((t_SMT_r_na, ), (t_SMT_r_a, ), kw_upper=kw_upper, kw_lower=kw_lower, dpi = 100, suptitle = title)\n",
    "\n",
    "if save_figures:\n",
    "    for f in plot_formats:\n",
    "        fig.savefig(plot_folder + '/SMT_rotation.' + f)\n",
    "plt.show()"
   ]
  },
  {
   "cell_type": "markdown",
   "metadata": {},
   "source": [
    "## Both"
   ]
  },
  {
   "cell_type": "code",
   "execution_count": null,
   "metadata": {},
   "outputs": [],
   "source": [
    "bar_colors = get_SMT_colors(1, 3)\n",
    "\n",
    "kw_upper = {'title': 'Without rotation', 'bar_colors': [bar_colors[0]]}\n",
    "kw_lower = {'title': 'With rotation', 'bar_colors': [bar_colors[1]]}\n",
    "fig1, axs = visualize_execution_times_two_plots((t_SMT_nr_na, ), (t_SMT_r_na, ), kw_upper=kw_upper, kw_lower=kw_lower, dpi = 100, suptitle = \"SMT: no sorting by area\")\n",
    "\n",
    "\n",
    "bar_colors = get_SMT_colors(2, 4)\n",
    "\n",
    "kw_upper = {'title': 'Without rotation', 'bar_colors': [bar_colors[0]]}\n",
    "kw_lower = {'title': 'With rotation', 'bar_colors': [bar_colors[1]]}\n",
    "fig2, axs = visualize_execution_times_two_plots((t_SMT_nr_a, ), (t_SMT_r_a, ), kw_upper=kw_upper, kw_lower=kw_lower, dpi = 100, suptitle = \"SMT: sorting by area\")\n",
    "\n",
    "if save_figures:\n",
    "    for f in plot_formats:\n",
    "        fig1.savefig(plot_folder + '/SMT_comparison_na.' + f)\n",
    "        fig2.savefig(plot_folder + '/SMT_comparison_a.' + f)\n",
    "plt.show()"
   ]
  },
  {
   "cell_type": "markdown",
   "metadata": {},
   "source": [
    "# LP\n",
    "performance analysis of the strip packing problem using Linear Programming"
   ]
  }
 ],
 "metadata": {
  "interpreter": {
   "hash": "7cb55dec82edcc873b1a279dcd8cdc5fc3c9486a92678c391c79cda19f94fc94"
  },
  "kernelspec": {
   "display_name": "Python 3.9.7 ('cdmo')",
   "language": "python",
   "name": "python3"
  },
  "language_info": {
   "codemirror_mode": {
    "name": "ipython",
    "version": 3
   },
   "file_extension": ".py",
   "mimetype": "text/x-python",
   "name": "python",
   "nbconvert_exporter": "python",
   "pygments_lexer": "ipython3",
   "version": "3.9.7"
  },
  "orig_nbformat": 4
 },
 "nbformat": 4,
 "nbformat_minor": 2
}
