{
 "cells": [
  {
   "cell_type": "code",
   "execution_count": null,
   "metadata": {},
   "outputs": [],
   "source": [
    "import numpy as np\n",
    "import matplotlib.pyplot as plt\n",
    "\n",
    "plt.style.use('default')\n",
    "\n",
    "from z3 import *\n",
    "\n",
    "import sys\n",
    "sys.path.append(\"../common\")\n",
    "\n",
    "from utils import visualize, read_instance, PositionedRectangle\n",
    "\n",
    "from SAT import SAT_solve, SAT_optimize\n",
    "\n",
    "#reloads external modules when they are changed\n",
    "%load_ext autoreload\n",
    "%autoreload 2"
   ]
  },
  {
   "cell_type": "code",
   "execution_count": null,
   "metadata": {},
   "outputs": [],
   "source": [
    "ins_filename = \"../instances/ins-36.txt\"\n",
    "# ins_filename = \"ins-test.txt\"\n",
    "W, n, rectangles = read_instance(ins_filename)\n",
    "\n",
    "try:\n",
    "\tH, positioned_rectangles = SAT_optimize(W, rectangles, verbose=True)\n",
    "\tplot = True\n",
    "except Z3Exception:\n",
    "\tplot = False\n",
    "\tprint(\"\\n----Timeout----\\n\")"
   ]
  },
  {
   "cell_type": "code",
   "execution_count": null,
   "metadata": {},
   "outputs": [],
   "source": [
    "if plot:\n",
    "\tfig, ax = plt.subplots(figsize = (10, 15), dpi = 100)\n",
    "\n",
    "\tfig, ax = visualize(W, H, positioned_rectangles, ax = ax)\n",
    "\tfig.suptitle(f\"{ins_filename.split('.')[0]}, {n} rectangles, W = {W}, H = {H}\")\n",
    "\tfig.tight_layout(pad = 1)\n",
    "\t#plt.savefig(\"../\" + ins_filename.split('.')[0])\n",
    "\tplt.show()"
   ]
  }
 ],
 "metadata": {
  "kernelspec": {
   "display_name": "Python 3.8.8 ('base')",
   "language": "python",
   "name": "python3"
  },
  "language_info": {
   "codemirror_mode": {
    "name": "ipython",
    "version": 3
   },
   "file_extension": ".py",
   "mimetype": "text/x-python",
   "name": "python",
   "nbconvert_exporter": "python",
   "pygments_lexer": "ipython3",
   "version": "3.8.8"
  },
  "orig_nbformat": 4,
  "vscode": {
   "interpreter": {
    "hash": "1b15b47e994a45b2c1c9c2019b348cb81bbb68780db9285c808c045d049d064a"
   }
  }
 },
 "nbformat": 4,
 "nbformat_minor": 2
}
