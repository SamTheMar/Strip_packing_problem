{
 "cells": [
  {
   "cell_type": "code",
   "execution_count": null,
   "metadata": {},
   "outputs": [],
   "source": [
    "import numpy as np\n",
    "import matplotlib.pyplot as plt\n",
    "\n",
    "plt.style.use('default')\n",
    "\n",
    "from z3 import *\n",
    "\n",
    "import sys\n",
    "sys.path.append(\"../common\")\n",
    "\n",
    "from utils import visualize, read_instance, PositionedRectangle\n",
    "\n",
    "from SAT import SAT_solve, SAT_optimize\n",
    "\n",
    "#reloads external modules when they are changed\n",
    "%load_ext autoreload\n",
    "%autoreload 2"
   ]
  },
  {
   "cell_type": "code",
   "execution_count": null,
   "metadata": {},
   "outputs": [],
   "source": [
    "ins_filename = \"ins-test.txt\"\n",
    "W, n, rectangles = read_instance(ins_filename)\n",
    "\n",
    "H, positioned_rectangles = SAT_optimize(W, rectangles, verbose=True)"
   ]
  },
  {
   "cell_type": "code",
   "execution_count": null,
   "metadata": {},
   "outputs": [],
   "source": [
    "fig, ax = plt.subplots(figsize = (8, 8), dpi = 100)\n",
    "\n",
    "fig, ax = visualize(W, H, positioned_rectangles, ax = ax)\n",
    "fig.suptitle(f\"{ins_filename.split('.')[0]}, {n} rectangles, W = {W}, H = {H}\")\n",
    "fig.tight_layout(pad = 1)\n",
    "#plt.savefig(\"../\" + ins_filename.split('.')[0])\n",
    "plt.show()"
   ]
  }
 ],
 "metadata": {
  "interpreter": {
   "hash": "7cb55dec82edcc873b1a279dcd8cdc5fc3c9486a92678c391c79cda19f94fc94"
  },
  "kernelspec": {
   "display_name": "Python 3.9.7 ('cdmo')",
   "language": "python",
   "name": "python3"
  },
  "language_info": {
   "codemirror_mode": {
    "name": "ipython",
    "version": 3
   },
   "file_extension": ".py",
   "mimetype": "text/x-python",
   "name": "python",
   "nbconvert_exporter": "python",
   "pygments_lexer": "ipython3",
   "version": "3.9.7"
  },
  "orig_nbformat": 4
 },
 "nbformat": 4,
 "nbformat_minor": 2
}
