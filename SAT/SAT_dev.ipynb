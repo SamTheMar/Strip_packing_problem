{
 "cells": [
  {
   "cell_type": "code",
   "execution_count": null,
   "metadata": {},
   "outputs": [],
   "source": [
    "import numpy as np\n",
    "import matplotlib.pyplot as plt\n",
    "\n",
    "plt.style.use('default')\n",
    "\n",
    "from z3 import *\n",
    "\n",
    "import sys\n",
    "sys.path.append(\"../common\")\n",
    "\n",
    "from utils import visualize, read_instance, PositionedRectangle, Rectangle\n",
    "\n",
    "from SAT import SAT_optimize, SAT_solver\n",
    "\n",
    "#reloads external modules when they are changed\n",
    "%load_ext autoreload\n",
    "%autoreload 2"
   ]
  },
  {
   "cell_type": "markdown",
   "metadata": {},
   "source": [
    "# Try one instance"
   ]
  },
  {
   "cell_type": "code",
   "execution_count": null,
   "metadata": {},
   "outputs": [],
   "source": [
    "ins_filename = \"../instances/ins-5.txt\"\n",
    "W, n, rectangles = read_instance(ins_filename)\n",
    "break_symmetries = True\n",
    "\n",
    "print(\"width: \", W)\n",
    "print(\"number of rectangles: \", len(rectangles))\n",
    "print(\"largest rectangle:\", np.argmax([r.w * r.h for r in rectangles])+1)\n",
    "print(\"break_symmetries:\", break_symmetries)\n",
    "print(\"\")\n",
    "\n",
    "try:\n",
    "    H, positioned_rectangles = SAT_optimize(W, rectangles, break_symmetries = break_symmetries, verbose=True)\n",
    "    plot = True\n",
    "except Z3Exception as e:\n",
    "    plot = False\n",
    "    print(\"\\n----Timeout----\\n\")"
   ]
  },
  {
   "cell_type": "code",
   "execution_count": null,
   "metadata": {},
   "outputs": [],
   "source": [
    "w, h, dpi = 600, 600, 100\n",
    "fig, ax = plt.subplots(figsize = (w/dpi, h/dpi), dpi = dpi)\n",
    "\n",
    "fig, ax = visualize(W, H, positioned_rectangles, ax = ax)\n",
    "fig.suptitle(f\"{ins_filename.split('/')[-1].split('.')[0]}, {n} rectangles, W = {W}, H = {H}\")\n",
    "fig.tight_layout(pad = 1)\n",
    "#plt.savefig(\"../\" + ins_filename.split('.')[0])\n",
    "plt.show()"
   ]
  },
  {
   "cell_type": "markdown",
   "metadata": {},
   "source": [
    "# Try all instances"
   ]
  },
  {
   "cell_type": "code",
   "execution_count": null,
   "metadata": {},
   "outputs": [],
   "source": [
    "for i in range(20):\n",
    "    ins_filename = f\"../instances/ins-{i+1}.txt\"\n",
    "    W, n, rectangles = read_instance(ins_filename)\n",
    "\n",
    "    print(\"width: \", W)\n",
    "    print(\"number of rectangles: \", len(rectangles))\n",
    "    print(\"largest rectangle:\", np.argmax([r.w * r.h for r in rectangles])+1)\n",
    "    print(\"break_symmetries:\", break_symmetries)\n",
    "    print(\"\")\n",
    "\n",
    "    try:\n",
    "        H, positioned_rectangles = SAT_optimize(W, rectangles, break_symmetries = True, verbose=False)\n",
    "        plot = True\n",
    "    except Z3Exception as e:\n",
    "        plot = False\n",
    "        print(\"\\n----Timeout----\\n\")\n",
    "\n",
    "    w, h, dpi = 600, 600, 100\n",
    "    fig, ax = plt.subplots(figsize = (w/dpi, h/dpi), dpi = dpi)\n",
    "\n",
    "    fig, ax = visualize(W, H, positioned_rectangles, ax = ax)\n",
    "    fig.suptitle(f\"{ins_filename.split('/')[-1].split('.')[0]}, {n} rectangles, W = {W}, H = {H}\")\n",
    "    fig.tight_layout(pad = 1)\n",
    "    #plt.savefig(\"../\" + ins_filename.split('.')[0])\n",
    "    plt.show()"
   ]
  }
 ],
 "metadata": {
  "interpreter": {
   "hash": "7cb55dec82edcc873b1a279dcd8cdc5fc3c9486a92678c391c79cda19f94fc94"
  },
  "kernelspec": {
   "display_name": "Python 3.9.7 ('cdmo')",
   "language": "python",
   "name": "python3"
  },
  "language_info": {
   "codemirror_mode": {
    "name": "ipython",
    "version": 3
   },
   "file_extension": ".py",
   "mimetype": "text/x-python",
   "name": "python",
   "nbconvert_exporter": "python",
   "pygments_lexer": "ipython3",
   "version": "3.9.7"
  },
  "orig_nbformat": 4,
  "vscode": {
   "interpreter": {
    "hash": "1b15b47e994a45b2c1c9c2019b348cb81bbb68780db9285c808c045d049d064a"
   }
  }
 },
 "nbformat": 4,
 "nbformat_minor": 2
}
