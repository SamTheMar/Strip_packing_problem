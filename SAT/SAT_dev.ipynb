{
 "cells": [
  {
   "cell_type": "code",
   "execution_count": null,
   "metadata": {},
   "outputs": [],
   "source": [
    "import numpy as np\n",
    "import matplotlib.pyplot as plt\n",
    "\n",
    "plt.style.use('default')\n",
    "\n",
    "from z3 import *\n",
    "\n",
    "import time\n",
    "from os import listdir\n",
    "import sys\n",
    "sys.path.append(\"../common\")\n",
    "\n",
    "from utils import visualize, read_instance, save_solution, visualize_from_file, optimize\n",
    "\n",
    "#reloads external modules when they are changed\n",
    "%load_ext autoreload\n",
    "%autoreload 2"
   ]
  },
  {
   "cell_type": "markdown",
   "metadata": {},
   "source": [
    "# Try one instance"
   ]
  },
  {
   "cell_type": "code",
   "execution_count": null,
   "metadata": {},
   "outputs": [],
   "source": [
    "ins_filename = \"../instances/ins-1.txt\"\n",
    "#ins_filename = \"ins-prova.txt\"\n",
    "W, n, rectangles = read_instance(ins_filename)\n",
    "break_symmetries = True\n",
    "allow_rotation = True\n",
    "\n",
    "print(\"width: \", W)\n",
    "print(\"number of rectangles: \", len(rectangles))\n",
    "print(\"largest rectangle:\", np.argmax([r.w * r.h for r in rectangles])+1)\n",
    "print(\"break_symmetries:\", break_symmetries)\n",
    "print(\"\")\n",
    "\n",
    "try:\n",
    "    H, positioned_rectangles = optimize('SAT', W, rectangles,\n",
    "                                            break_symmetries = break_symmetries,\n",
    "                                            allow_rotation = allow_rotation,\n",
    "                                            verbose=True)\n",
    "    plot = True\n",
    "except Z3Exception as e:\n",
    "    plot = False\n",
    "    print(\"\\n----Timeout----\\n\")"
   ]
  },
  {
   "cell_type": "code",
   "execution_count": null,
   "metadata": {},
   "outputs": [],
   "source": [
    "w, h, dpi = 600, 600, 100\n",
    "fig, ax = plt.subplots(figsize = (w/dpi, h/dpi), dpi = dpi)\n",
    "\n",
    "fig, ax = visualize(W, H, positioned_rectangles, ax = ax)\n",
    "fig.suptitle(f\"{ins_filename.split('/')[-1].split('.')[0]}, {n} rectangles, W = {W}, H = {H}\")\n",
    "fig.tight_layout(pad = 1)\n",
    "#plt.savefig(\"../\" + ins_filename.split('.')[0])\n",
    "plt.show()"
   ]
  },
  {
   "cell_type": "markdown",
   "metadata": {},
   "source": [
    "# Compute all instances"
   ]
  },
  {
   "cell_type": "code",
   "execution_count": null,
   "metadata": {},
   "outputs": [],
   "source": [
    "save_to_file = False\n",
    "\n",
    "output_folder = \"out/rotation/\"\n",
    "input_folder = \"../instances/\"\n",
    "\n",
    "plot = True\n",
    "\n",
    "break_symmetries = True\n",
    "allow_rotation = True\n",
    "\n",
    "print(\"\")\n",
    "print(50*\"=\")\n",
    "for i in range(40):\n",
    "    ins_filename = input_folder + f\"ins-{i+1}.txt\"\n",
    "    solution_filename = output_folder + f\"ins-{i+1}-sol.txt\"\n",
    "    W, n, rectangles = read_instance(ins_filename)\n",
    "\n",
    "    m = np.argmax([r.w * r.h for r in rectangles])\n",
    "    print(f\"\\nInstance {i+1}\")\n",
    "    print(\"Width:\", W)\n",
    "    print(\"Number of rectangles:\", len(rectangles))\n",
    "    print(\"Largest rectangle measures:\", (rectangles[m].w, rectangles[m].h))\n",
    "    print(\"Largest rectangle index:\", m+1)\n",
    "    print(\"Breaking symmetries:\", break_symmetries)\n",
    "    print(\"\")\n",
    "\n",
    "    execution_time = 0.\n",
    "    H = 0\n",
    "    try:\n",
    "        start = time.time()\n",
    "        H, positioned_rectangles = optimize('SAT', W, rectangles,\n",
    "                                                break_symmetries = break_symmetries,\n",
    "                                                allow_rotation = allow_rotation,\n",
    "                                                verbose=True)\n",
    "        execution_time = time.time() - start\n",
    "        print(\"\\nFound height:\", H)\n",
    "        print(f\"Execution time in seconds: {execution_time:.3f}\")\n",
    "\n",
    "        if save_to_file:\n",
    "            save_solution(solution_filename, W, H, positioned_rectangles)\n",
    "            with open(solution_filename, \"a\") as f:\n",
    "                f.write(f\"\\nexecution time in seconds: {execution_time:.3f}\")\n",
    "        if plot:\n",
    "            w, h, dpi = 600, 600, 100\n",
    "            fig, ax = plt.subplots(figsize = (w/dpi, h/dpi), dpi = dpi)\n",
    "\n",
    "            fig, ax = visualize(W, H, positioned_rectangles, ax = ax)\n",
    "            fig.suptitle(f\"{ins_filename.split('/')[-1].split('.')[0]}, {n} rectangles, W = {W}, H = {H}\")\n",
    "            fig.tight_layout(pad = 1)\n",
    "            #plt.savefig(\"../\" + ins_filename.split('.')[0])\n",
    "            plt.show()\n",
    "\n",
    "\n",
    "    except Z3Exception as e:\n",
    "        print(\"\\n----Timeout----\\n\")\n",
    "    \n",
    "    print(\"\")\n",
    "    print(50*\"=\")"
   ]
  },
  {
   "cell_type": "markdown",
   "metadata": {},
   "source": [
    "# Visualize all solutions"
   ]
  },
  {
   "cell_type": "code",
   "execution_count": null,
   "metadata": {},
   "outputs": [],
   "source": [
    "sol_folder = \"out/no_rotation/\"\n",
    "filenames = listdir(sol_folder)\n",
    "instance_numbers = [int(name.split(\"-\")[1]) for name in filenames]\n",
    "_, filenames = zip(*sorted(zip(instance_numbers, filenames)))\n",
    "\n",
    "plot_folder = \"out/plots/\"\n",
    "for filename in filenames:\n",
    "    instance_name = \"-\".join(filename.split(\".\")[0].split(\"-\")[:-1])\n",
    "    fig, ax = visualize_from_file(sol_folder + filename, plot_width = 900, dpi = 100, additional_info = instance_name)\n",
    "    fig.savefig(plot_folder + filename.split(\".\")[0])\n",
    "    plt.show()"
   ]
  }
 ],
 "metadata": {
  "interpreter": {
   "hash": "7cb55dec82edcc873b1a279dcd8cdc5fc3c9486a92678c391c79cda19f94fc94"
  },
  "kernelspec": {
   "display_name": "Python 3.9.7 ('cdmo')",
   "language": "python",
   "name": "python3"
  },
  "language_info": {
   "codemirror_mode": {
    "name": "ipython",
    "version": 3
   },
   "file_extension": ".py",
   "mimetype": "text/x-python",
   "name": "python",
   "nbconvert_exporter": "python",
   "pygments_lexer": "ipython3",
   "version": "3.9.7"
  },
  "orig_nbformat": 4,
  "vscode": {
   "interpreter": {
    "hash": "88f8c138b3f0b97562de7bd82a0d3b62911e4434bd930c617581685e9f2117fe"
   }
  }
 },
 "nbformat": 4,
 "nbformat_minor": 2
}
