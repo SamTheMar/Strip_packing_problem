{
 "cells": [
  {
   "cell_type": "code",
   "execution_count": null,
   "metadata": {},
   "outputs": [],
   "source": [
    "import sys\n",
    "sys.path.append('../common')\n",
    "from utils import visualize_from_file\n",
    "import matplotlib.pyplot as plt"
   ]
  },
  {
   "cell_type": "code",
   "execution_count": null,
   "metadata": {},
   "outputs": [],
   "source": [
    "output_url = \"test.txt\"\n",
    "visualize_from_file(output_url)\n",
    "plt.show()"
   ]
  },
  {
   "cell_type": "code",
   "execution_count": null,
   "metadata": {},
   "outputs": [],
   "source": [
    "#instance_num = 3\n",
    "for instance_num in range(1, 41):\n",
    "    try:\n",
    "        output_url = \"./CP_solutions_rotation/ins-%d.txt\"%instance_num\n",
    "        visualize_from_file(output_url, additional_info= str(instance_num))\n",
    "        plt.show()\n",
    "    except Exception:\n",
    "        print(instance_num , \"no solution\")\n",
    "    "
   ]
  }
 ],
 "metadata": {
  "kernelspec": {
   "display_name": "Python 3.9.13 64-bit (windows store)",
   "language": "python",
   "name": "python3"
  },
  "language_info": {
   "codemirror_mode": {
    "name": "ipython",
    "version": 3
   },
   "file_extension": ".py",
   "mimetype": "text/x-python",
   "name": "python",
   "nbconvert_exporter": "python",
   "pygments_lexer": "ipython3",
   "version": "3.9.13"
  },
  "orig_nbformat": 4,
  "vscode": {
   "interpreter": {
    "hash": "9bae79024b29d427d388221b5021f07fb422bb42527146822e528915fa126e0f"
   }
  }
 },
 "nbformat": 4,
 "nbformat_minor": 2
}
