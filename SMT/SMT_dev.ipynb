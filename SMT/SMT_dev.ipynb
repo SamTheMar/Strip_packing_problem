{
 "cells": [
  {
   "cell_type": "code",
   "execution_count": null,
   "metadata": {},
   "outputs": [],
   "source": [
    "from SMT_solver import SMT_solver\n",
    "import time\n",
    "from z3 import *\n",
    "import numpy as np\n",
    "import matplotlib.pyplot as plt\n",
    "import subprocess\n",
    "\n",
    "plt.style.use('default')\n",
    "\n",
    "import sys\n",
    "sys.path.append(\"../common\")\n",
    "from utils import visualize, read_instance, save_solution, visualize_from_file, optimize\n",
    "\n",
    "\n",
    "#reloads external modules when they are changed\n",
    "%load_ext autoreload\n",
    "%autoreload 2\n"
   ]
  },
  {
   "cell_type": "markdown",
   "metadata": {},
   "source": [
    "# Try one instance"
   ]
  },
  {
   "cell_type": "code",
   "execution_count": null,
   "metadata": {},
   "outputs": [],
   "source": [
    "ins_filename = \"../instances/ins-25.txt\"\n",
    "W, n, rectangles = read_instance(ins_filename)\n",
    "break_symmetries = True\n",
    "allow_rotation = False\n",
    "verbose = True\n",
    "\n",
    "solver = 'z3'\n",
    "logic = 'QF_IDL'\n",
    "timeout = 30\n",
    "\n",
    "print(\"width: \", W)\n",
    "print(\"number of rectangles: \", len(rectangles))\n",
    "print(\"largest rectangle:\", np.argmax([r.w * r.h for r in rectangles])+1)\n",
    "print(\"break_symmetries:\", break_symmetries)\n",
    "print(\"\")\n",
    "\n",
    "try:\n",
    "    start = time.time()\n",
    "    H, positioned_rectangles = optimize('SMT', W, rectangles, allow_rotation, verbose, break_symmetries, solver=solver, timeout = timeout, logic = logic)\n",
    "    execution_time = time.time() - start\n",
    "    print(f\"\\nExecution time in seconds: {execution_time:.3f}\")\n",
    "except subprocess.TimeoutExpired:\n",
    "    print(\"\\n----Timeout----\\n\")\n"
   ]
  },
  {
   "cell_type": "code",
   "execution_count": null,
   "metadata": {},
   "outputs": [],
   "source": [
    "fig, ax = visualize(W, H, positioned_rectangles)\n",
    "fig.suptitle(f\"{ins_filename.split('/')[-1].split('.')[0]}, {n} rectangles, W = {W}, H = {H}\")\n",
    "fig.tight_layout(pad=1)\n",
    "#plt.savefig(\"../\" + ins_filename.split('.')[0])\n",
    "plt.show()"
   ]
  },
  {
   "cell_type": "markdown",
   "metadata": {},
   "source": [
    "# Compute All Instances"
   ]
  },
  {
   "cell_type": "code",
   "execution_count": null,
   "metadata": {},
   "outputs": [],
   "source": [
    "solver = 'z3'\n",
    "logic = 'QF_IDL'\n",
    "\n",
    "save_to_file = False\n",
    "\n",
    "output_folder = f\"out/{logic}/\"\n",
    "input_folder = \"../instances/\"\n",
    "\n",
    "plot = True\n",
    "plot_folder = f\"out/{logic}_plots/\"\n",
    "\n",
    "break_symmetries = True\n",
    "allow_rotation = True\n",
    "\n",
    "verbose = True\n",
    "\n",
    "print(\"\")\n",
    "print(50*\"=\")\n",
    "for i in range(40):\n",
    "    ins_filename = input_folder + f\"ins-{i+1}.txt\"\n",
    "    solution_filename = output_folder + f\"ins-{i+1}-sol.txt\"\n",
    "    W, n, rectangles = read_instance(ins_filename)\n",
    "\n",
    "    m = np.argmax([r.w * r.h for r in rectangles])\n",
    "    print(f\"\\nInstance {i+1}\")\n",
    "    print(\"Width:\", W)\n",
    "    print(\"Number of rectangles:\", len(rectangles))\n",
    "    print(\"Largest rectangle measures:\", (rectangles[m].w, rectangles[m].h))\n",
    "    print(\"Largest rectangle index:\", m+1)\n",
    "    print(\"Breaking symmetries:\", break_symmetries)\n",
    "    print(\"\")\n",
    "\n",
    "    execution_time = 0.\n",
    "    H = 0\n",
    "    try:\n",
    "        start = time.time()\n",
    "        H, positioned_rectangles = optimize('SMT', W, rectangles, allow_rotation, verbose, break_symmetries, solver=solver, logic=logic)\n",
    "        execution_time = time.time() - start\n",
    "        print(\"\\nFound height:\", H)\n",
    "        print(f\"Execution time in seconds: {execution_time:.3f}\")\n",
    "\n",
    "        if save_to_file:\n",
    "            save_solution(solution_filename, W, H, positioned_rectangles)\n",
    "            with open(solution_filename, \"a\") as f:\n",
    "                f.write(f\"\\nexecution time in seconds: {execution_time:.3f}\")\n",
    "        if plot:\n",
    "            fig, ax = visualize(W, H, positioned_rectangles)\n",
    "            fig.suptitle(\n",
    "                f\"{ins_filename.split('/')[-1].split('.')[0]}, {n} rectangles, W = {W}, H = {H}\")\n",
    "            fig.tight_layout(pad=1)\n",
    "            if save_to_file:\n",
    "                plt.savefig(plot_folder + ins_filename.split('/')[-1].split('.')[0])\n",
    "            plt.show()\n",
    "\n",
    "    except subprocess.TimeoutExpired:\n",
    "        print(\"\\n----Timeout----\\n\")\n",
    "\n",
    "    print(\"\")\n",
    "    print(50*\"=\")\n"
   ]
  }
 ],
 "metadata": {
  "kernelspec": {
   "display_name": "Python 3.9.7 ('cdmo')",
   "language": "python",
   "name": "python3"
  },
  "language_info": {
   "codemirror_mode": {
    "name": "ipython",
    "version": 3
   },
   "file_extension": ".py",
   "mimetype": "text/x-python",
   "name": "python",
   "nbconvert_exporter": "python",
   "pygments_lexer": "ipython3",
   "version": "3.9.7"
  },
  "orig_nbformat": 4,
  "vscode": {
   "interpreter": {
    "hash": "7cb55dec82edcc873b1a279dcd8cdc5fc3c9486a92678c391c79cda19f94fc94"
   }
  }
 },
 "nbformat": 4,
 "nbformat_minor": 2
}
