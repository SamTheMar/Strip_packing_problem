{
 "cells": [
  {
   "cell_type": "code",
   "execution_count": null,
   "metadata": {},
   "outputs": [],
   "source": [
    "from SMT_solver import SMT_solver\n",
    "from SMT_Lib_solver import SMT_Lib_solver\n",
    "import time\n",
    "from z3 import *\n",
    "import numpy as np\n",
    "import matplotlib.pyplot as plt\n",
    "from func_timeout import func_timeout, FunctionTimedOut\n",
    "\n",
    "from SMT_Lib_utils import SMT_optimize\n",
    "\n",
    "plt.style.use('default')\n",
    "\n",
    "import sys\n",
    "sys.path.append(\"../common\")\n",
    "from utils import visualize, read_instance, save_solution, visualize_from_file\n",
    "\n",
    "\n",
    "#reloads external modules when they are changed\n",
    "%load_ext autoreload\n",
    "%autoreload 2\n"
   ]
  },
  {
   "cell_type": "markdown",
   "metadata": {},
   "source": [
    "# Try one instance"
   ]
  },
  {
   "cell_type": "code",
   "execution_count": null,
   "metadata": {},
   "outputs": [],
   "source": [
    "ins_filename = \"../instances/ins-15.txt\"\n",
    "W, n, rectangles = read_instance(ins_filename)\n",
    "break_symmetries = True\n",
    "allow_rotation = True\n",
    "verbose = True\n",
    "\n",
    "print(\"width: \", W)\n",
    "print(\"number of rectangles: \", len(rectangles))\n",
    "print(\"largest rectangle:\", np.argmax([r.w * r.h for r in rectangles])+1)\n",
    "print(\"break_symmetries:\", break_symmetries)\n",
    "print(\"\")\n",
    "\n",
    "\n",
    "\n",
    "# H, positioned_rectangles = SMT_solver(W, rectangles, break_symmetries=break_symmetries).solve()\n",
    "# H = W\n",
    "# positioned_rectangles = SMT_Lib_solver(W, H, rectangles).solve()\n",
    "try:\n",
    "    start = time.time()\n",
    "    H, positioned_rectangles = func_timeout(300, SMT_optimize, args=(W, rectangles, break_symmetries, allow_rotation, verbose))\n",
    "    execution_time = time.time() - start\n",
    "    print(f\"\\nExecution time in seconds: {execution_time:.3f}\")\n",
    "except FunctionTimedOut:\n",
    "\tprint(\"\\n----Timeout----\\n\")\n",
    "\n",
    "# H, positioned_rectangles = SMT_optimize(W, rectangles, break_symmetries=False,allow_rotation=True, verbose=True)\n",
    "\n"
   ]
  },
  {
   "cell_type": "code",
   "execution_count": null,
   "metadata": {},
   "outputs": [],
   "source": [
    "fig, ax = visualize(W, H, positioned_rectangles)\n",
    "fig.suptitle(f\"{ins_filename.split('/')[-1].split('.')[0]}, {n} rectangles, W = {W}, H = {H}\")\n",
    "fig.tight_layout(pad=1)\n",
    "#plt.savefig(\"../\" + ins_filename.split('.')[0])\n",
    "plt.show()\n"
   ]
  },
  {
   "cell_type": "markdown",
   "metadata": {},
   "source": [
    "# Compute All Instances"
   ]
  },
  {
   "cell_type": "code",
   "execution_count": null,
   "metadata": {},
   "outputs": [],
   "source": [
    "save_to_file = False\n",
    "\n",
    "output_folder = \"SMT_solutions/no_rotation/\"\n",
    "input_folder = \"../instances/\"\n",
    "\n",
    "plot = True\n",
    "\n",
    "break_symmetries = True\n",
    "allow_rotation = True\n",
    "\n",
    "print(\"\")\n",
    "print(50*\"=\")\n",
    "for i in range(20):\n",
    "    ins_filename = input_folder + f\"ins-{i+1}.txt\"\n",
    "    solution_filename = output_folder + f\"ins-{i+1}-sol.txt\"\n",
    "    W, n, rectangles = read_instance(ins_filename)\n",
    "\n",
    "    m = np.argmax([r.w * r.h for r in rectangles])\n",
    "    print(f\"\\nInstance {i+1}\")\n",
    "    print(\"Width:\", W)\n",
    "    print(\"Number of rectangles:\", len(rectangles))\n",
    "    print(\"Largest rectangle measures:\", (rectangles[m].w, rectangles[m].h))\n",
    "    print(\"Largest rectangle index:\", m+1)\n",
    "    print(\"Breaking symmetries:\", break_symmetries)\n",
    "    print(\"\")\n",
    "\n",
    "    execution_time = 0.\n",
    "    H = 0\n",
    "    try:\n",
    "        start = time.time()\n",
    "        H, positioned_rectangles = SMT_solver(W, rectangles,\n",
    "                                                break_symmetries=break_symmetries).solve()\n",
    "        execution_time = time.time() - start\n",
    "        print(\"\\nFound height:\", H)\n",
    "        print(f\"Execution time in seconds: {execution_time:.3f}\")\n",
    "\n",
    "        if save_to_file:\n",
    "            save_solution(solution_filename, W, H, positioned_rectangles)\n",
    "            with open(solution_filename, \"a\") as f:\n",
    "                f.write(f\"\\nexecution time in seconds: {execution_time:.3f}\")\n",
    "        if plot:\n",
    "            w, h, dpi = 600, 600, 100\n",
    "            fig, ax = plt.subplots(figsize=(w/dpi, h/dpi), dpi=dpi)\n",
    "\n",
    "            fig, ax = visualize(W, H, positioned_rectangles, ax=ax)\n",
    "            fig.suptitle(\n",
    "                f\"{ins_filename.split('/')[-1].split('.')[0]}, {n} rectangles, W = {W}, H = {H}\")\n",
    "            fig.tight_layout(pad=1)\n",
    "            #plt.savefig(\"../\" + ins_filename.split('.')[0])\n",
    "            plt.show()\n",
    "\n",
    "    except Z3Exception as e:\n",
    "        print(\"\\n----Timeout----\\n\")\n",
    "\n",
    "    print(\"\")\n",
    "    print(50*\"=\")\n"
   ]
  }
 ],
 "metadata": {
  "kernelspec": {
   "display_name": "Python 3.9.12 ('CDMO')",
   "language": "python",
   "name": "python3"
  },
  "language_info": {
   "codemirror_mode": {
    "name": "ipython",
    "version": 3
   },
   "file_extension": ".py",
   "mimetype": "text/x-python",
   "name": "python",
   "nbconvert_exporter": "python",
   "pygments_lexer": "ipython3",
   "version": "3.9.12"
  },
  "orig_nbformat": 4,
  "vscode": {
   "interpreter": {
    "hash": "88f8c138b3f0b97562de7bd82a0d3b62911e4434bd930c617581685e9f2117fe"
   }
  }
 },
 "nbformat": 4,
 "nbformat_minor": 2
}
