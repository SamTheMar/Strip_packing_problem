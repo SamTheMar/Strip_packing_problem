{
 "cells": [
  {
   "cell_type": "code",
   "execution_count": null,
   "metadata": {},
   "outputs": [],
   "source": [
    "import matplotlib.pyplot as plt\n",
    "plt.style.use('default')\n",
    "\n",
    "from common.utils import generate_plots_from_files\n",
    "\n",
    "#reloads external modules when they are changed\n",
    "%load_ext autoreload\n",
    "%autoreload 2\n",
    "\n",
    "show_plots = False\n",
    "save_plots = True\n",
    "plot_format = 'png'\n",
    "\n",
    "plot_kw = {'plot_width': 900, 'dpi': 100}"
   ]
  },
  {
   "cell_type": "markdown",
   "metadata": {},
   "source": [
    "# CP"
   ]
  },
  {
   "cell_type": "code",
   "execution_count": 60,
   "metadata": {},
   "outputs": [],
   "source": [
    "sol_folder = \"CP/CP_solutions/\"\n",
    "#sol_folder = \"CP/CP_solutions_rotation/\"\n",
    "plot_folder = \"plots/configurations/CP\"\n",
    "\n",
    "if not save_plots:\n",
    "    plot_folder = None\n",
    "\n",
    "generate_plots_from_files(sol_folder, plot_folder, show_plots=show_plots, plot_format=plot_format, **plot_kw)"
   ]
  },
  {
   "cell_type": "markdown",
   "metadata": {},
   "source": [
    "# SAT"
   ]
  },
  {
   "cell_type": "code",
   "execution_count": null,
   "metadata": {},
   "outputs": [],
   "source": [
    "sol_folder = \"SAT/out/no_rotation/no_sorting_by_area/txt/\"\n",
    "#sol_folder = \"SAT/out/rotation/no_sorting_by_area/txt/\"\n",
    "plot_folder = \"plots/configurations/SAT\"\n",
    "\n",
    "if not save_plots:\n",
    "    plot_folder = None\n",
    "\n",
    "generate_plots_from_files(sol_folder, plot_folder, show_plots=show_plots, plot_format=plot_format, **plot_kw)"
   ]
  },
  {
   "cell_type": "markdown",
   "metadata": {},
   "source": [
    "# SMT"
   ]
  },
  {
   "cell_type": "code",
   "execution_count": null,
   "metadata": {},
   "outputs": [],
   "source": [
    "sol_folder = \"SMT/out/no_rotation/sorting_by_area/txt/\"\n",
    "#sol_folder = \"SMT/out/rotation/sorting_by_area/txt/\"\n",
    "plot_folder = \"plots/configurations/SMT\"\n",
    "\n",
    "if not save_plots:\n",
    "    plot_folder = None\n",
    "\n",
    "generate_plots_from_files(sol_folder, plot_folder, show_plots=show_plots, plot_format=plot_format, **plot_kw)"
   ]
  },
  {
   "cell_type": "markdown",
   "metadata": {},
   "source": [
    "# LP"
   ]
  },
  {
   "cell_type": "code",
   "execution_count": null,
   "metadata": {},
   "outputs": [],
   "source": [
    "sol_folder = \"LP/out/no_rotation/txt/\"\n",
    "#sol_folder = \"LP/out/rotation/txt/\"\n",
    "plot_folder = \"plots/configurations/LP\"\n",
    "\n",
    "if not save_plots:\n",
    "    plot_folder = None\n",
    "\n",
    "generate_plots_from_files(sol_folder, plot_folder, show_plots=show_plots, plot_format=plot_format, **plot_kw)"
   ]
  }
 ],
 "metadata": {
  "kernelspec": {
   "display_name": "Python 3.9.7 ('cdmo')",
   "language": "python",
   "name": "python3"
  },
  "language_info": {
   "codemirror_mode": {
    "name": "ipython",
    "version": 3
   },
   "file_extension": ".py",
   "mimetype": "text/x-python",
   "name": "python",
   "nbconvert_exporter": "python",
   "pygments_lexer": "ipython3",
   "version": "3.9.7"
  },
  "orig_nbformat": 4,
  "vscode": {
   "interpreter": {
    "hash": "7cb55dec82edcc873b1a279dcd8cdc5fc3c9486a92678c391c79cda19f94fc94"
   }
  }
 },
 "nbformat": 4,
 "nbformat_minor": 2
}
