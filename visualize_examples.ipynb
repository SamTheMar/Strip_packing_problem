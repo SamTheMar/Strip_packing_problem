{
 "cells": [
  {
   "cell_type": "code",
   "execution_count": 2,
   "metadata": {},
   "outputs": [
    {
     "name": "stdout",
     "output_type": "stream",
     "text": [
      "The autoreload extension is already loaded. To reload it, use:\n",
      "  %reload_ext autoreload\n"
     ]
    }
   ],
   "source": [
    "import matplotlib.pyplot as plt\n",
    "plt.style.use('default')\n",
    "\n",
    "import os\n",
    "\n",
    "from common.utils import generate_plots_from_files\n",
    "\n",
    "#reloads external modules when they are changed\n",
    "%load_ext autoreload\n",
    "%autoreload 2\n",
    "\n",
    "show_plots = False\n",
    "save_plots = True\n",
    "plot_format = 'png'\n",
    "plot_folder = 'plots/configurations'\n",
    "\n",
    "plot_kw = {'plot_width': 900, 'dpi': 100}"
   ]
  },
  {
   "cell_type": "markdown",
   "metadata": {},
   "source": [
    "# CP"
   ]
  },
  {
   "cell_type": "code",
   "execution_count": null,
   "metadata": {},
   "outputs": [],
   "source": [
    "sol_folder = \"CP/CP_solutions/\"\n",
    "sol_folder_rotation = \"CP/CP_solutions_rotation/\"\n",
    "plot_folder_normal = os.path.join(plot_folder, \"CP\")\n",
    "plot_folder_rotation = os.path.join(plot_folder, \"CP_rotation\")\n",
    "\n",
    "if not save_plots:\n",
    "    plot_folder_normal = None\n",
    "    plot_folder_rotation = None\n",
    "\n",
    "generate_plots_from_files(sol_folder, plot_folder_normal, show_plots=show_plots, plot_format=plot_format, **plot_kw)\n",
    "#generate_plots_from_files(sol_folder_rotation, plot_folder_rotation, show_plots=show_plots, plot_format=plot_format, **plot_kw)"
   ]
  },
  {
   "cell_type": "markdown",
   "metadata": {},
   "source": [
    "# SAT"
   ]
  },
  {
   "cell_type": "code",
   "execution_count": 3,
   "metadata": {},
   "outputs": [],
   "source": [
    "sol_folder = \"SAT/out/no_rotation/symmetry_breaking/no_sorting_by_area/\"\n",
    "sol_folder_rotation = \"SAT/out/rotation/symmetry_breaking/sorting_by_area/\"\n",
    "plot_folder_normal = os.path.join(plot_folder, \"SAT\")\n",
    "plot_folder_rotation = os.path.join(plot_folder, \"SAT_rotation\")\n",
    "\n",
    "if not save_plots:\n",
    "    plot_folder_normal = None\n",
    "    plot_folder_rotation = None\n",
    "\n",
    "generate_plots_from_files(sol_folder, plot_folder_normal, show_plots=show_plots, plot_format=plot_format, **plot_kw)\n",
    "generate_plots_from_files(sol_folder_rotation, plot_folder_rotation, show_plots=show_plots, plot_format=plot_format, **plot_kw)\n"
   ]
  },
  {
   "cell_type": "markdown",
   "metadata": {},
   "source": [
    "# SMT"
   ]
  },
  {
   "cell_type": "code",
   "execution_count": null,
   "metadata": {},
   "outputs": [],
   "source": [
    "sol_folder = \"SMT/out/no_rotation/symmetry_breaking/sorting_by_area/\"\n",
    "sol_folder_rotation = \"SMT/out/rotation/symmetry_breaking/sorting_by_area/\"\n",
    "plot_folder_normal = os.path.join(plot_folder, \"SMT\")\n",
    "plot_folder_rotation = os.path.join(plot_folder, \"SMT_rotation\")\n",
    "\n",
    "if not save_plots:\n",
    "    plot_folder_normal = None\n",
    "    plot_folder_rotation = None\n",
    "\n",
    "generate_plots_from_files(sol_folder, plot_folder_normal, show_plots=show_plots, plot_format=plot_format, **plot_kw)\n",
    "generate_plots_from_files(sol_folder_rotation, plot_folder_rotation, show_plots=show_plots, plot_format=plot_format, **plot_kw)"
   ]
  },
  {
   "cell_type": "markdown",
   "metadata": {},
   "source": [
    "# LP"
   ]
  },
  {
   "cell_type": "code",
   "execution_count": null,
   "metadata": {},
   "outputs": [],
   "source": [
    "sol_folder = \"LP/out/no_rotation/txt/\"\n",
    "sol_folder_rotation = \"LP/out/rotation/txt/\"\n",
    "plot_folder_normal = os.path.join(plot_folder, \"LP\")\n",
    "plot_folder_rotation = os.path.join(plot_folder, \"LP_rotation\")\n",
    "\n",
    "if not save_plots:\n",
    "    plot_folder_normal = None\n",
    "    plot_folder_rotation = None\n",
    "\n",
    "generate_plots_from_files(sol_folder, plot_folder_normal, show_plots=show_plots, plot_format=plot_format, **plot_kw)\n",
    "#generate_plots_from_files(sol_folder_rotation, plot_folder_rotation, show_plots=show_plots, plot_format=plot_format, **plot_kw)"
   ]
  },
  {
   "cell_type": "markdown",
   "metadata": {},
   "source": [
    "# Cool plots for the report"
   ]
  },
  {
   "cell_type": "code",
   "execution_count": 5,
   "metadata": {},
   "outputs": [],
   "source": [
    "plt.style.use(\"seaborn-pastel\")\n",
    "\n",
    "save_plots = True\n",
    "plot_kw = {'plot_width': 900, 'dpi': 100, 'grid': False, 'show_info': False, 'linewidth': 0.5, 'rectangle_numbering': False, 'axis_off': True}\n",
    "\n",
    "sol_folder = \"SAT/out/no_rotation/symmetry_breaking/no_sorting_by_area/\"\n",
    "plot_folder_normal = os.path.join(plot_folder, \"report\")\n",
    "\n",
    "if not save_plots:\n",
    "    plot_folder_normal = None\n",
    "\n",
    "generate_plots_from_files(sol_folder, plot_folder_normal, show_plots=show_plots, plot_format=[\"png\", \"pdf\"], **plot_kw)\n"
   ]
  }
 ],
 "metadata": {
  "kernelspec": {
   "display_name": "Python 3.9.12 ('CDMO')",
   "language": "python",
   "name": "python3"
  },
  "language_info": {
   "codemirror_mode": {
    "name": "ipython",
    "version": 3
   },
   "file_extension": ".py",
   "mimetype": "text/x-python",
   "name": "python",
   "nbconvert_exporter": "python",
   "pygments_lexer": "ipython3",
   "version": "3.9.12"
  },
  "orig_nbformat": 4,
  "vscode": {
   "interpreter": {
    "hash": "88f8c138b3f0b97562de7bd82a0d3b62911e4434bd930c617581685e9f2117fe"
   }
  }
 },
 "nbformat": 4,
 "nbformat_minor": 2
}
