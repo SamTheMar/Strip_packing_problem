{
 "cells": [
  {
   "cell_type": "code",
   "execution_count": null,
   "metadata": {},
   "outputs": [],
   "source": [
    "import os\n",
    "import matplotlib.pyplot as plt\n",
    "\n",
    "plt.style.use('default')\n",
    "\n",
    "from common.utils import get_execution_times, visualize_execution_times, visualize_execution_times_two_plots\n",
    "\n",
    "save_figures = True\n",
    "plot_formats = [\"png\", \"pdf\"]\n",
    "plot_folder = \"./plots/analysis\"\n",
    "\n",
    "time_plot_kw = {'aspect': 2.5, 'dpi': 140, 'first_is_baseline': True, 'stats_table_bbox': (0.02, 0.5, 0.2, 0.32)}\n",
    "comp_plot_kw = {'aspect': 2, 'dpi': 120, 'hspace': 0.15}\n",
    "\n",
    "LP_plot_kw = {'dpi': 110, 'first_is_baseline': True, 'stats_table_bbox': (0.02, 0.5, 0.2, 0.32)}\n",
    "\n",
    "if not os.path.isdir(plot_folder):\n",
    "    os.makedirs(plot_folder)\n",
    "\n",
    "#reloads external modules when they are changed\n",
    "%load_ext autoreload\n",
    "%autoreload 2"
   ]
  },
  {
   "cell_type": "markdown",
   "metadata": {},
   "source": [
    "# CP\n",
    "performance analysis of the strip packing problem using Constraint Programming"
   ]
  },
  {
   "cell_type": "markdown",
   "metadata": {},
   "source": [
    "## No Rotation"
   ]
  },
  {
   "cell_type": "code",
   "execution_count": null,
   "metadata": {},
   "outputs": [],
   "source": [
    "# 1 dom_w_deg, 2 impact, 3 input_order\n",
    "# 1 luby, 2 geometric, 3 none\n",
    "d11 = get_execution_times(\"CP/out/no_rotation/luby/dom_w_deg\")\n",
    "d21 = get_execution_times(\"CP/out/no_rotation/luby/impact\")\n",
    "d31 = get_execution_times(\"CP/out/no_rotation/luby/non_increasing_area\")\n",
    "d12 = get_execution_times(\"CP/out/no_rotation/geometric/dom_w_deg\")\n",
    "d22 = get_execution_times(\"CP/out/no_rotation/geometric/impact\")\n",
    "d32 = get_execution_times(\"CP/out/no_rotation/geometric/non_increasing_area\")\n",
    "d13 = get_execution_times(\"CP/out/no_rotation/no_restart/dom_w_deg\")\n",
    "d23 = get_execution_times(\"CP/out/no_rotation/no_restart/impact\")\n",
    "d33 = get_execution_times(\"CP/out/no_rotation/no_restart/non_increasing_area\")\n",
    "\n",
    "\n",
    "fig, ax = visualize_execution_times(\n",
    "    [d31, d11, d21, d12, d22, d32, d13, d23, d33],\n",
    "    labels=['luby restart, non_increasing_area', 'luby restart, dom_w_deg', 'luby restart, impact',\n",
    "            'geometric restart, dom_w_deg', 'geometric restart, impact', 'geometric restart, non_increasing_area',\n",
    "            'no restart, dom_w_deg', 'no restart, impact', 'no restart, non_increasing_area'],\n",
    "    first_is_baseline=True,\n",
    "    title=\"CP, no rotation\",\n",
    "    stats_table_bbox=(0.03, 0.02, 0.17, 0.4))\n",
    "if save_figures:\n",
    "    for f in plot_formats:\n",
    "        fig.savefig(os.path.join(plot_folder, 'CP_no_rotation.' + f))\n",
    "plt.show()\n"
   ]
  },
  {
   "cell_type": "markdown",
   "metadata": {},
   "source": [
    "## Rotation"
   ]
  },
  {
   "cell_type": "code",
   "execution_count": null,
   "metadata": {},
   "outputs": [],
   "source": [
    "# 1 dom_w_deg, 2 impact, 3 input_order\n",
    "# 1 luby, 2 geometric, 3 none\n",
    "d11r = get_execution_times(\"CP/out/rotation/luby/dom_w_deg\")\n",
    "d21r = get_execution_times(\"CP/out/rotation/luby/impact\")\n",
    "d31r = get_execution_times(\"CP/out/rotation/luby/non_increasing_area\")\n",
    "d12r = get_execution_times(\"CP/out/rotation/geometric/dom_w_deg\")\n",
    "d22r = get_execution_times(\"CP/out/rotation/geometric/impact\")\n",
    "d32r = get_execution_times(\"CP/out/rotation/geometric/non_increasing_area\")\n",
    "d13r = get_execution_times(\"CP/out/rotation/no_restart/dom_w_deg\")\n",
    "d23r = get_execution_times(\"CP/out/rotation/no_restart/impact\")\n",
    "d33r = get_execution_times(\"CP/out/rotation/no_restart/non_increasing_area\")\n",
    "\n",
    "\n",
    "fig, ax = visualize_execution_times(\n",
    "    [d33r, d11r, d21r, d31r, d12r, d22r, d32r, d13r, d23r],\n",
    "    labels=['no restart, non_increasing_area', 'luby restart, dom_w_deg', 'luby restart, impact', 'luby restart, non_increasing_area',\n",
    "            'geometric restart, dom_w_deg', 'geometric restart, impact', 'geometric restart, non_increasing_area',\n",
    "            'no restart, dom_w_deg', 'no restart, impact'],\n",
    "    first_is_baseline=True,\n",
    "    title=\"CP, rotation\",\n",
    "    stats_table_bbox=(0.03, 0.02, 0.17, 0.4))\n",
    "if save_figures:\n",
    "    for f in plot_formats:\n",
    "        fig.savefig(os.path.join(plot_folder, 'CP_rotation.' + f))\n",
    "plt.show()"
   ]
  },
  {
   "cell_type": "markdown",
   "metadata": {},
   "source": [
    "## Both"
   ]
  },
  {
   "cell_type": "code",
   "execution_count": null,
   "metadata": {},
   "outputs": [],
   "source": [
    "kw_upper = {'title': 'Without rotation'}\n",
    "kw_lower = {'title': 'With rotation'}\n",
    "\n",
    "fig, ax = visualize_execution_times_two_plots((d31,), (d33r,), kw_upper=kw_upper, kw_lower=kw_lower)\n",
    "if save_figures:\n",
    "    for f in plot_formats:\n",
    "        fig.savefig(os.path.join(plot_folder, 'CP_Comparison.' + f))\n",
    "plt.show()\n"
   ]
  },
  {
   "cell_type": "markdown",
   "metadata": {},
   "source": [
    "# SAT\n",
    "performance analysis of the strip packing problem using SAT"
   ]
  },
  {
   "cell_type": "code",
   "execution_count": null,
   "metadata": {},
   "outputs": [],
   "source": [
    "t_SAT_nr_base = get_execution_times(\"SAT/out/no_rotation/no_symmetry_breaking/no_sorting_by_area/\")\n",
    "t_SAT_nr_sb = get_execution_times(\"SAT/out/no_rotation/symmetry_breaking/no_sorting_by_area/\")\n",
    "t_SAT_nr_sbsa = get_execution_times(\"SAT/out/no_rotation/symmetry_breaking/sorting_by_area/\")\n",
    "\n",
    "t_SAT_r_base = get_execution_times(\"SAT/out/rotation/no_symmetry_breaking/no_sorting_by_area/\")\n",
    "t_SAT_r_sb = get_execution_times(\"SAT/out/rotation/symmetry_breaking/no_sorting_by_area/\")\n",
    "t_SAT_r_sbsa = get_execution_times(\"SAT/out/rotation/symmetry_breaking/sorting_by_area/\")\n",
    "\n",
    "labels = [\"Baseline\", \"Symmetry breaking\", \"Symmetry breaking and preprocessing\"]\n",
    "\n",
    "#SAT_colors = [\"#17becf\", \"#1f77b4\", \"#083570\", \"#50ca50\", \"#008000\", \"#004500\"]\n",
    "SAT_colors = [\"#c44e52\", \"#83a83b\", \"#3572c6\", \"#c44e52\", \"#83a83b\", \"#3572c6\"]\n",
    "def get_SAT_colors(*id):\n",
    "    return [SAT_colors[i-1] for i in id]"
   ]
  },
  {
   "cell_type": "markdown",
   "metadata": {},
   "source": [
    "## No rotation"
   ]
  },
  {
   "cell_type": "code",
   "execution_count": null,
   "metadata": {},
   "outputs": [],
   "source": [
    "bar_colors = get_SAT_colors(1, 2, 3)\n",
    "title = \"SAT without rotation\"\n",
    "\n",
    "fig, ax = visualize_execution_times((t_SAT_nr_base, t_SAT_nr_sb, t_SAT_nr_sbsa), labels, title = title, bar_colors=bar_colors, **time_plot_kw)\n",
    "\n",
    "if save_figures:\n",
    "    for f in plot_formats:\n",
    "        fig.savefig(os.path.join(plot_folder, 'SAT_no_rotation.' + f))\n",
    "plt.show()"
   ]
  },
  {
   "cell_type": "markdown",
   "metadata": {},
   "source": [
    "## Rotation"
   ]
  },
  {
   "cell_type": "code",
   "execution_count": null,
   "metadata": {},
   "outputs": [],
   "source": [
    "bar_colors = get_SAT_colors(4, 5, 6)\n",
    "title = \"SAT with rotation\"\n",
    "\n",
    "fig, ax = visualize_execution_times((t_SAT_r_base, t_SAT_r_sb, t_SAT_r_sbsa), labels, title = title, bar_colors=bar_colors, **time_plot_kw)\n",
    "\n",
    "if save_figures:\n",
    "    for f in plot_formats:\n",
    "        fig.savefig(os.path.join(plot_folder, 'SAT_rotation.' + f))\n",
    "plt.show()"
   ]
  },
  {
   "cell_type": "markdown",
   "metadata": {},
   "source": [
    "## Both"
   ]
  },
  {
   "cell_type": "code",
   "execution_count": null,
   "metadata": {},
   "outputs": [],
   "source": [
    "bar_colors = get_SAT_colors(1, 4)\n",
    "\n",
    "kw_upper = {'title': 'Without rotation', 'bar_colors': [bar_colors[0]]}\n",
    "kw_lower = {'title': 'With rotation', 'bar_colors': [bar_colors[1]]}\n",
    "fig1, axs = visualize_execution_times_two_plots((t_SAT_nr_base, ), (t_SAT_r_base, ), kw_upper=kw_upper, kw_lower=kw_lower, suptitle = \"SAT, \" + labels[0].lower(), **comp_plot_kw)\n",
    "\n",
    "\n",
    "bar_colors = get_SAT_colors(2, 5)\n",
    "\n",
    "kw_upper = {'title': 'Without rotation', 'bar_colors': [bar_colors[0]]}\n",
    "kw_lower = {'title': 'With rotation', 'bar_colors': [bar_colors[1]]}\n",
    "fig2, axs = visualize_execution_times_two_plots((t_SAT_nr_sb, ), (t_SAT_r_sb, ), kw_upper=kw_upper, kw_lower=kw_lower, suptitle = \"SAT, \" + labels[1].lower(), **comp_plot_kw)\n",
    "\n",
    "\n",
    "bar_colors = get_SAT_colors(3, 6)\n",
    "\n",
    "kw_upper = {'title': 'Without rotation', 'bar_colors': [bar_colors[0]]}\n",
    "kw_lower = {'title': 'With rotation', 'bar_colors': [bar_colors[1]]}\n",
    "fig3, axs = visualize_execution_times_two_plots((t_SAT_nr_sbsa, ), (t_SAT_r_sbsa, ), kw_upper=kw_upper, kw_lower=kw_lower, suptitle = \"SAT, \" + labels[2].lower(), **comp_plot_kw)\n",
    "\n",
    "if save_figures:\n",
    "    for f in plot_formats:\n",
    "        fig1.savefig(os.path.join(plot_folder, 'SAT_comparison_base.' + f))\n",
    "        fig2.savefig(os.path.join(plot_folder, 'SAT_comparison_imp.' + f))\n",
    "        fig3.savefig(os.path.join(plot_folder, 'SAT_comparison_imp2.' + f))\n",
    "plt.show()"
   ]
  },
  {
   "cell_type": "markdown",
   "metadata": {},
   "source": [
    "# SMT\n",
    "performance analysis of the strip packing problem using SMT"
   ]
  },
  {
   "cell_type": "code",
   "execution_count": null,
   "metadata": {},
   "outputs": [],
   "source": [
    "t_SMT_nr_base = get_execution_times(\"SMT/out/no_rotation/no_symmetry_breaking/no_sorting_by_area/\")\n",
    "t_SMT_nr_sb = get_execution_times(\"SMT/out/no_rotation/symmetry_breaking/no_sorting_by_area/\")\n",
    "t_SMT_nr_sbsa = get_execution_times(\"SMT/out/no_rotation/symmetry_breaking/sorting_by_area/\")\n",
    "\n",
    "t_SMT_r_base = get_execution_times(\"SMT/out/rotation/no_symmetry_breaking/no_sorting_by_area/\")\n",
    "t_SMT_r_sb = get_execution_times(\"SMT/out/rotation/symmetry_breaking/no_sorting_by_area/\")\n",
    "t_SMT_r_sbsa = get_execution_times(\"SMT/out/rotation/symmetry_breaking/sorting_by_area/\")\n",
    "\n",
    "labels = [\"Baseline\", \"Symmetry breaking\", \"Symmetry breaking and preprocessing\"]\n",
    "\n",
    "#SMT_colors = [\"#ffb600\", \"#cc650b\", \"#854215\", \"#ff5656\", \"#980000\", \"#600000\"]\n",
    "SMT_colors = [\"#c44e52\", \"#83a83b\", \"#3572c6\", \"#c44e52\", \"#83a83b\", \"#3572c6\"]\n",
    "def get_SMT_colors(*id):\n",
    "    return [SMT_colors[i-1] for i in id]"
   ]
  },
  {
   "cell_type": "markdown",
   "metadata": {},
   "source": [
    "## No Rotation"
   ]
  },
  {
   "cell_type": "code",
   "execution_count": null,
   "metadata": {},
   "outputs": [],
   "source": [
    "bar_colors = get_SMT_colors(1, 2, 3)\n",
    "title = \"SMT without rotation\"\n",
    "\n",
    "fig, ax = visualize_execution_times((t_SMT_nr_base, t_SMT_nr_sb, t_SMT_nr_sbsa), labels, title = title, bar_colors=bar_colors, **time_plot_kw)\n",
    "\n",
    "if save_figures:\n",
    "    for f in plot_formats:\n",
    "        fig.savefig(os.path.join(plot_folder, 'SMT_no_rotation.' + f))\n",
    "plt.show()"
   ]
  },
  {
   "cell_type": "markdown",
   "metadata": {},
   "source": [
    "## Rotation"
   ]
  },
  {
   "cell_type": "code",
   "execution_count": null,
   "metadata": {},
   "outputs": [],
   "source": [
    "bar_colors = get_SMT_colors(4, 5, 6)\n",
    "title = \"SMT with rotation\"\n",
    "\n",
    "fig, ax = visualize_execution_times((t_SMT_r_base, t_SMT_r_sb, t_SMT_r_sbsa), labels, title = title, bar_colors=bar_colors, **time_plot_kw)\n",
    "\n",
    "if save_figures:\n",
    "    for f in plot_formats:\n",
    "        fig.savefig(os.path.join(plot_folder, 'SMT_rotation.' + f))\n",
    "plt.show()"
   ]
  },
  {
   "cell_type": "markdown",
   "metadata": {},
   "source": [
    "## Both"
   ]
  },
  {
   "cell_type": "code",
   "execution_count": null,
   "metadata": {},
   "outputs": [],
   "source": [
    "bar_colors = get_SMT_colors(1, 4)\n",
    "\n",
    "kw_upper = {'title': 'Without rotation', 'bar_colors': [bar_colors[0]]}\n",
    "kw_lower = {'title': 'With rotation', 'bar_colors': [bar_colors[1]]}\n",
    "fig1, axs = visualize_execution_times_two_plots((t_SMT_nr_base, ), (t_SMT_r_base, ), kw_upper=kw_upper, kw_lower=kw_lower, suptitle = \"SMT, \" + labels[0].lower(), **comp_plot_kw)\n",
    "\n",
    "\n",
    "bar_colors = get_SMT_colors(2, 5)\n",
    "\n",
    "kw_upper = {'title': 'Without rotation', 'bar_colors': [bar_colors[0]]}\n",
    "kw_lower = {'title': 'With rotation', 'bar_colors': [bar_colors[1]]}\n",
    "fig2, axs = visualize_execution_times_two_plots((t_SMT_nr_sb, ), (t_SMT_r_sb, ), kw_upper=kw_upper, kw_lower=kw_lower, suptitle = \"SMT, \" + labels[1].lower(), **comp_plot_kw)\n",
    "\n",
    "\n",
    "bar_colors = get_SMT_colors(3, 6)\n",
    "\n",
    "kw_upper = {'title': 'Without rotation', 'bar_colors': [bar_colors[0]]}\n",
    "kw_lower = {'title': 'With rotation', 'bar_colors': [bar_colors[1]]}\n",
    "fig3, axs = visualize_execution_times_two_plots((t_SMT_nr_sbsa, ), (t_SMT_r_sbsa, ), kw_upper=kw_upper, kw_lower=kw_lower, suptitle = \"SMT, \" + labels[2].lower(), **comp_plot_kw)\n",
    "\n",
    "if save_figures:\n",
    "    for f in plot_formats:\n",
    "        fig1.savefig(os.path.join(plot_folder, 'SMT_comparison_base.' + f))\n",
    "        fig2.savefig(os.path.join(plot_folder, 'SMT_comparison_imp.' + f))\n",
    "        fig3.savefig(os.path.join(plot_folder, 'SMT_comparison_imp2.' + f))\n",
    "plt.show()"
   ]
  },
  {
   "cell_type": "markdown",
   "metadata": {},
   "source": [
    "# LP\n",
    "performance analysis of the strip packing problem using Linear Programming"
   ]
  },
  {
   "cell_type": "markdown",
   "metadata": {},
   "source": [
    "## No Rotation"
   ]
  },
  {
   "cell_type": "code",
   "execution_count": null,
   "metadata": {},
   "outputs": [],
   "source": [
    "d1 = get_execution_times(\"LP/out/no_rotation/no_ordering/cplex\")\n",
    "d2 = get_execution_times(\"LP/out/no_rotation/ordering/cplex\")\n",
    "d3 = get_execution_times(\"LP/out/no_rotation/no_ordering/gurobi\")\n",
    "d4 = get_execution_times(\"LP/out/no_rotation/ordering/gurobi\")\n",
    "LP_colors = [\"#c44e52\", \"#83a83b\", \"#ff914d\", \"#3572c6\"]\n",
    "labels = [\"no rotation no ordering cplex\", \"no rotation ordering cplex\",\n",
    "          \"no rotation no ordering gurobi\", \"no rotation ordering gurobi\"]\n",
    "\n",
    "fig, ax = visualize_execution_times((d1, d2, d3, d4), title=\"LP, no rotation\",  bar_colors=LP_colors, **LP_plot_kw, labels=labels, aspect=2)\n",
    "if save_figures:\n",
    "    for f in plot_formats:\n",
    "        fig.savefig(os.path.join(plot_folder, 'LP_no_rotation.' + f))\n",
    "plt.show()\n"
   ]
  },
  {
   "cell_type": "markdown",
   "metadata": {},
   "source": [
    "## Rotation"
   ]
  },
  {
   "cell_type": "code",
   "execution_count": null,
   "metadata": {},
   "outputs": [],
   "source": [
    "d1r = get_execution_times(\"LP/out/rotation/no_ordering/cplex\")\n",
    "d2r = get_execution_times(\"LP/out/rotation/ordering/cplex\")\n",
    "d3r = get_execution_times(\"LP/out/rotation/no_ordering/gurobi\")\n",
    "d4r = get_execution_times(\"LP/out/rotation/ordering/gurobi\")\n",
    "LP_colors = [\"#c44e52\", \"#83a83b\", \"#ff914d\", \"#3572c6\"]\n",
    "\n",
    "labels = [\"rotation no ordering cplex\", \"rotation ordering cplex\",\n",
    "          \"rotation no ordering gurobi\", \"rotation ordering gurobi\"]\n",
    "\n",
    "fig, ax = visualize_execution_times((d1r, d2r, d3r, d4r), title=\"LP, rotation\",  **LP_plot_kw, labels=labels, aspect=2)\n",
    "\n",
    "if save_figures:\n",
    "    for f in plot_formats:\n",
    "        fig.savefig(os.path.join(plot_folder, 'LP_rotation.' + f))\n",
    "plt.show()"
   ]
  },
  {
   "cell_type": "markdown",
   "metadata": {},
   "source": [
    "## Both"
   ]
  },
  {
   "cell_type": "code",
   "execution_count": null,
   "metadata": {},
   "outputs": [],
   "source": [
    "kw_upper = {'title': 'Best without rotation (ordering, cplex)'}\n",
    "kw_lower = {'title': 'Best with rotation (ordering, gurobi)'}\n",
    "\n",
    "fig, ax = visualize_execution_times_two_plots((d2,), (d4r,), kw_upper=kw_upper, kw_lower=kw_lower)\n",
    "if save_figures:\n",
    "    for f in plot_formats:\n",
    "        fig.savefig(os.path.join(plot_folder, 'LP_Comparison.' + f))\n",
    "plt.show()\n"
   ]
  },
  {
   "cell_type": "markdown",
   "metadata": {},
   "source": [
    "# Final Comparison"
   ]
  },
  {
   "cell_type": "markdown",
   "metadata": {},
   "source": [
    "## No Rotation"
   ]
  },
  {
   "cell_type": "code",
   "execution_count": null,
   "metadata": {},
   "outputs": [],
   "source": [
    "d1 = get_execution_times(\"CP/out/no_rotation/luby/non_increasing_area\")\n",
    "d2 = get_execution_times(\"SAT/out/no_rotation/symmetry_breaking/no_sorting_by_area/\")\n",
    "d3 = get_execution_times(\"SMT/out/no_rotation/symmetry_breaking/sorting_by_area/\")\n",
    "d4 = get_execution_times(\"LP/out/no_rotation/ordering/cplex\")\n",
    "\n",
    "colors = [\"#c44e52\", \"#83a83b\", \"#ff914d\", \"#3572c6\"]\n",
    "labels = [\"LP\", \"CP\", \"SAT\", \"SMT\"]\n",
    "\n",
    "fig, ax = visualize_execution_times((d4, d1, d2, d3), title=\"Best, no rotation\",  bar_colors=colors, **LP_plot_kw, labels=labels, aspect=2)\n",
    "\n",
    "if save_figures:\n",
    "    for f in plot_formats:\n",
    "        fig.savefig(os.path.join(plot_folder, 'ALL_no_rotation.' + f))\n",
    "plt.show()\n"
   ]
  },
  {
   "cell_type": "markdown",
   "metadata": {},
   "source": [
    "## Rotation"
   ]
  },
  {
   "cell_type": "code",
   "execution_count": null,
   "metadata": {},
   "outputs": [],
   "source": [
    "d1 = get_execution_times(\"CP/out/rotation/no_restart/non_increasing_area\")\n",
    "d2 = get_execution_times(\"SAT/out/rotation/symmetry_breaking/sorting_by_area/\")\n",
    "d3 = get_execution_times(\"SMT/out/rotation/symmetry_breaking/sorting_by_area/\")\n",
    "d4 = get_execution_times(\"LP/out/rotation/ordering/gurobi\")\n",
    "\n",
    "colors = [\"#c44e52\", \"#83a83b\", \"#ff914d\", \"#3572c6\"]\n",
    "labels = [\"LP\", \"CP\", \"SAT\", \"SMT\"]\n",
    "\n",
    "fig, ax = visualize_execution_times((d4, d1, d2, d3), title=\"Best, no rotation\",  bar_colors=colors, **LP_plot_kw, labels=labels, aspect=2)\n",
    "\n",
    "if save_figures:\n",
    "    for f in plot_formats:\n",
    "        fig.savefig(os.path.join(plot_folder, 'ALL_no_rotation.' + f))\n",
    "plt.show()\n"
   ]
  }
 ],
 "metadata": {
  "kernelspec": {
   "display_name": "Python 3.8.10 64-bit",
   "language": "python",
   "name": "python3"
  },
  "language_info": {
   "codemirror_mode": {
    "name": "ipython",
    "version": 3
   },
   "file_extension": ".py",
   "mimetype": "text/x-python",
   "name": "python",
   "nbconvert_exporter": "python",
   "pygments_lexer": "ipython3",
   "version": "3.8.10"
  },
  "orig_nbformat": 4,
  "vscode": {
   "interpreter": {
    "hash": "31f2aee4e71d21fbe5cf8b01ff0e069b9275f58929596ceb00d14d90e3e16cd6"
   }
  }
 },
 "nbformat": 4,
 "nbformat_minor": 2
}
