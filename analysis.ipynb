{
 "cells": [
  {
   "cell_type": "code",
   "execution_count": null,
   "metadata": {},
   "outputs": [],
   "source": [
    "import os\n",
    "import matplotlib.pyplot as plt\n",
    "\n",
    "plt.style.use('default')\n",
    "\n",
    "from common.utils import get_execution_times, visualize_execution_times, visualize_execution_times_two_plots\n",
    "\n",
    "save_figures = True\n",
    "plot_formats = [\"png\", \"pdf\"]\n",
    "plot_folder = \"./plots/analysis\"\n",
    "\n",
    "time_plot_kw = {'aspect': 2.5, 'dpi': 140, 'first_is_baseline': True, 'stats_table_bbox': (0.02, 0.5, 0.2, 0.32)}\n",
    "comp_plot_kw = {'aspect': 2, 'dpi': 120, 'hspace': 0.15}\n",
    "\n",
    "if not os.path.isdir(plot_folder):\n",
    "    os.makedirs(plot_folder)\n",
    "\n",
    "#reloads external modules when they are changed\n",
    "%load_ext autoreload\n",
    "%autoreload 2"
   ]
  },
  {
   "cell_type": "markdown",
   "metadata": {},
   "source": [
    "# CP\n",
    "performance analysis of the strip packing problem using Constraint Programming"
   ]
  },
  {
   "cell_type": "code",
   "execution_count": null,
   "metadata": {},
   "outputs": [],
   "source": [
    "d1 = get_execution_times(\"CP/CP_solutions\")\n",
    "fig, ax = visualize_execution_times((d1, ), title = \"CP, no rotation\")\n",
    "if save_figures:\n",
    "    for f in plot_formats:\n",
    "        fig.savefig(os.path.join(plot_folder, 'CP_no_rotation.' + f))\n",
    "plt.show()"
   ]
  },
  {
   "cell_type": "markdown",
   "metadata": {},
   "source": [
    "# SAT\n",
    "performance analysis of the strip packing problem using SAT"
   ]
  },
  {
   "cell_type": "code",
   "execution_count": null,
   "metadata": {},
   "outputs": [],
   "source": [
    "t_SAT_nr_base = get_execution_times(\"SAT/out/no_rotation/no_symmetry_breaking/no_sorting_by_area/\")\n",
    "t_SAT_nr_sb = get_execution_times(\"SAT/out/no_rotation/symmetry_breaking/no_sorting_by_area/\")\n",
    "t_SAT_nr_sbsa = get_execution_times(\"SAT/out/no_rotation/symmetry_breaking/sorting_by_area/\")\n",
    "\n",
    "t_SAT_r_base = get_execution_times(\"SAT/out/rotation/no_symmetry_breaking/no_sorting_by_area/\")\n",
    "t_SAT_r_sb = get_execution_times(\"SAT/out/rotation/symmetry_breaking/no_sorting_by_area/\")\n",
    "t_SAT_r_sbsa = get_execution_times(\"SAT/out/rotation/symmetry_breaking/sorting_by_area/\")\n",
    "\n",
    "labels = [\"Baseline\", \"Symmetry breaking\", \"Symmetry breaking and preprocessing\"]\n",
    "\n",
    "#SAT_colors = [\"#17becf\", \"#1f77b4\", \"#083570\", \"#50ca50\", \"#008000\", \"#004500\"]\n",
    "SAT_colors = [\"#c44e52\", \"#83a83b\", \"#3572c6\", \"#c44e52\", \"#83a83b\", \"#3572c6\"]\n",
    "def get_SAT_colors(*id):\n",
    "    return [SAT_colors[i-1] for i in id]"
   ]
  },
  {
   "cell_type": "markdown",
   "metadata": {},
   "source": [
    "## No rotation"
   ]
  },
  {
   "cell_type": "code",
   "execution_count": null,
   "metadata": {},
   "outputs": [],
   "source": [
    "bar_colors = get_SAT_colors(1, 2, 3)\n",
    "title = \"SAT without rotation\"\n",
    "\n",
    "fig, ax = visualize_execution_times((t_SAT_nr_base, t_SAT_nr_sb, t_SAT_nr_sbsa), labels, title = title, bar_colors=bar_colors, **time_plot_kw)\n",
    "\n",
    "if save_figures:\n",
    "    for f in plot_formats:\n",
    "        fig.savefig(os.path.join(plot_folder, 'SAT_no_rotation.' + f))\n",
    "plt.show()"
   ]
  },
  {
   "cell_type": "markdown",
   "metadata": {},
   "source": [
    "## Rotation"
   ]
  },
  {
   "cell_type": "code",
   "execution_count": null,
   "metadata": {},
   "outputs": [],
   "source": [
    "bar_colors = get_SAT_colors(4, 5, 6)\n",
    "title = \"SAT with rotation\"\n",
    "\n",
    "fig, ax = visualize_execution_times((t_SAT_r_base, t_SAT_r_sb, t_SAT_r_sbsa), labels, title = title, bar_colors=bar_colors, **time_plot_kw)\n",
    "\n",
    "if save_figures:\n",
    "    for f in plot_formats:\n",
    "        fig.savefig(os.path.join(plot_folder, 'SAT_rotation.' + f))\n",
    "plt.show()"
   ]
  },
  {
   "cell_type": "markdown",
   "metadata": {},
   "source": [
    "## Both"
   ]
  },
  {
   "cell_type": "code",
   "execution_count": null,
   "metadata": {},
   "outputs": [],
   "source": [
    "bar_colors = get_SAT_colors(1, 4)\n",
    "\n",
    "kw_upper = {'title': 'Without rotation', 'bar_colors': [bar_colors[0]]}\n",
    "kw_lower = {'title': 'With rotation', 'bar_colors': [bar_colors[1]]}\n",
    "fig1, axs = visualize_execution_times_two_plots((t_SAT_nr_base, ), (t_SAT_r_base, ), kw_upper=kw_upper, kw_lower=kw_lower, suptitle = \"SAT, \" + labels[0].lower(), **comp_plot_kw)\n",
    "\n",
    "\n",
    "bar_colors = get_SAT_colors(2, 5)\n",
    "\n",
    "kw_upper = {'title': 'Without rotation', 'bar_colors': [bar_colors[0]]}\n",
    "kw_lower = {'title': 'With rotation', 'bar_colors': [bar_colors[1]]}\n",
    "fig2, axs = visualize_execution_times_two_plots((t_SAT_nr_sb, ), (t_SAT_r_sb, ), kw_upper=kw_upper, kw_lower=kw_lower, suptitle = \"SAT, \" + labels[1].lower(), **comp_plot_kw)\n",
    "\n",
    "\n",
    "bar_colors = get_SAT_colors(3, 6)\n",
    "\n",
    "kw_upper = {'title': 'Without rotation', 'bar_colors': [bar_colors[0]]}\n",
    "kw_lower = {'title': 'With rotation', 'bar_colors': [bar_colors[1]]}\n",
    "fig3, axs = visualize_execution_times_two_plots((t_SAT_nr_sbsa, ), (t_SAT_r_sbsa, ), kw_upper=kw_upper, kw_lower=kw_lower, suptitle = \"SAT, \" + labels[2].lower(), **comp_plot_kw)\n",
    "\n",
    "if save_figures:\n",
    "    for f in plot_formats:\n",
    "        fig1.savefig(os.path.join(plot_folder, 'SAT_comparison_base.' + f))\n",
    "        fig2.savefig(os.path.join(plot_folder, 'SAT_comparison_imp.' + f))\n",
    "        fig3.savefig(os.path.join(plot_folder, 'SAT_comparison_imp2.' + f))\n",
    "plt.show()"
   ]
  },
  {
   "cell_type": "markdown",
   "metadata": {},
   "source": [
    "# SMT\n",
    "performance analysis of the strip packing problem using SMT"
   ]
  },
  {
   "cell_type": "code",
   "execution_count": null,
   "metadata": {},
   "outputs": [],
   "source": [
    "t_SMT_nr_base = get_execution_times(\"SMT/out/no_rotation/no_symmetry_breaking/no_sorting_by_area/\")\n",
    "t_SMT_nr_sb = get_execution_times(\"SMT/out/no_rotation/symmetry_breaking/no_sorting_by_area/\")\n",
    "t_SMT_nr_sbsa = get_execution_times(\"SMT/out/no_rotation/symmetry_breaking/sorting_by_area/\")\n",
    "\n",
    "t_SMT_r_base = get_execution_times(\"SMT/out/rotation/no_symmetry_breaking/no_sorting_by_area/\")\n",
    "t_SMT_r_sb = get_execution_times(\"SMT/out/rotation/symmetry_breaking/no_sorting_by_area/\")\n",
    "t_SMT_r_sbsa = get_execution_times(\"SMT/out/rotation/symmetry_breaking/sorting_by_area/\")\n",
    "\n",
    "labels = [\"Baseline\", \"Symmetry breaking\", \"Symmetry breaking and preprocessing\"]\n",
    "\n",
    "#SMT_colors = [\"#ffb600\", \"#cc650b\", \"#854215\", \"#ff5656\", \"#980000\", \"#600000\"]\n",
    "SMT_colors = [\"#c44e52\", \"#83a83b\", \"#3572c6\", \"#c44e52\", \"#83a83b\", \"#3572c6\"]\n",
    "def get_SMT_colors(*id):\n",
    "    return [SMT_colors[i-1] for i in id]"
   ]
  },
  {
   "cell_type": "markdown",
   "metadata": {},
   "source": [
    "## No Rotation"
   ]
  },
  {
   "cell_type": "code",
   "execution_count": null,
   "metadata": {},
   "outputs": [],
   "source": [
    "bar_colors = get_SMT_colors(1, 2, 3)\n",
    "title = \"SMT without rotation\"\n",
    "\n",
    "fig, ax = visualize_execution_times((t_SMT_nr_base, t_SMT_nr_sb, t_SMT_nr_sbsa), labels, title = title, bar_colors=bar_colors, **time_plot_kw)\n",
    "\n",
    "if save_figures:\n",
    "    for f in plot_formats:\n",
    "        fig.savefig(os.path.join(plot_folder, 'SMT_no_rotation.' + f))\n",
    "plt.show()"
   ]
  },
  {
   "cell_type": "markdown",
   "metadata": {},
   "source": [
    "## Rotation"
   ]
  },
  {
   "cell_type": "code",
   "execution_count": null,
   "metadata": {},
   "outputs": [],
   "source": [
    "bar_colors = get_SMT_colors(4, 5, 6)\n",
    "title = \"SMT with rotation\"\n",
    "\n",
    "fig, ax = visualize_execution_times((t_SMT_r_base, t_SMT_r_sb, t_SMT_r_sbsa), labels, title = title, bar_colors=bar_colors, **time_plot_kw)\n",
    "\n",
    "if save_figures:\n",
    "    for f in plot_formats:\n",
    "        fig.savefig(os.path.join(plot_folder, 'SMT_rotation.' + f))\n",
    "plt.show()"
   ]
  },
  {
   "cell_type": "markdown",
   "metadata": {},
   "source": [
    "## Both"
   ]
  },
  {
   "cell_type": "code",
   "execution_count": null,
   "metadata": {},
   "outputs": [],
   "source": [
    "bar_colors = get_SMT_colors(1, 4)\n",
    "\n",
    "kw_upper = {'title': 'Without rotation', 'bar_colors': [bar_colors[0]]}\n",
    "kw_lower = {'title': 'With rotation', 'bar_colors': [bar_colors[1]]}\n",
    "fig1, axs = visualize_execution_times_two_plots((t_SMT_nr_base, ), (t_SMT_r_base, ), kw_upper=kw_upper, kw_lower=kw_lower, suptitle = \"SMT, \" + labels[0].lower(), **comp_plot_kw)\n",
    "\n",
    "\n",
    "bar_colors = get_SMT_colors(2, 5)\n",
    "\n",
    "kw_upper = {'title': 'Without rotation', 'bar_colors': [bar_colors[0]]}\n",
    "kw_lower = {'title': 'With rotation', 'bar_colors': [bar_colors[1]]}\n",
    "fig2, axs = visualize_execution_times_two_plots((t_SMT_nr_sb, ), (t_SMT_r_sb, ), kw_upper=kw_upper, kw_lower=kw_lower, suptitle = \"SMT, \" + labels[1].lower(), **comp_plot_kw)\n",
    "\n",
    "\n",
    "bar_colors = get_SMT_colors(3, 6)\n",
    "\n",
    "kw_upper = {'title': 'Without rotation', 'bar_colors': [bar_colors[0]]}\n",
    "kw_lower = {'title': 'With rotation', 'bar_colors': [bar_colors[1]]}\n",
    "fig3, axs = visualize_execution_times_two_plots((t_SMT_nr_sbsa, ), (t_SMT_r_sbsa, ), kw_upper=kw_upper, kw_lower=kw_lower, suptitle = \"SMT, \" + labels[2].lower(), **comp_plot_kw)\n",
    "\n",
    "if save_figures:\n",
    "    for f in plot_formats:\n",
    "        fig1.savefig(os.path.join(plot_folder, 'SMT_comparison_base.' + f))\n",
    "        fig2.savefig(os.path.join(plot_folder, 'SMT_comparison_imp.' + f))\n",
    "        fig3.savefig(os.path.join(plot_folder, 'SMT_comparison_imp2.' + f))\n",
    "plt.show()"
   ]
  },
  {
   "cell_type": "markdown",
   "metadata": {},
   "source": [
    "# LP\n",
    "performance analysis of the strip packing problem using Linear Programming"
   ]
  },
  {
   "cell_type": "code",
   "execution_count": null,
   "metadata": {},
   "outputs": [],
   "source": [
    "d1 = get_execution_times(\"LP/out/no_rotation/txt\")\n",
    "fig, ax = visualize_execution_times((d1, ), title = \"CP, no rotation\", stats_table_bbox=(0.05, 0.7, 0.17, 0.2))\n",
    "if save_figures:\n",
    "    for f in plot_formats:\n",
    "        fig.savefig(os.path.join(plot_folder, 'LP_no_rotation.' + f))\n",
    "plt.show()"
   ]
  }
 ],
 "metadata": {
  "interpreter": {
   "hash": "7cb55dec82edcc873b1a279dcd8cdc5fc3c9486a92678c391c79cda19f94fc94"
  },
  "kernelspec": {
   "display_name": "Python 3.9.7 ('cdmo')",
   "language": "python",
   "name": "python3"
  },
  "language_info": {
   "codemirror_mode": {
    "name": "ipython",
    "version": 3
   },
   "file_extension": ".py",
   "mimetype": "text/x-python",
   "name": "python",
   "nbconvert_exporter": "python",
   "pygments_lexer": "ipython3",
   "version": "3.9.7"
  },
  "orig_nbformat": 4
 },
 "nbformat": 4,
 "nbformat_minor": 2
}
